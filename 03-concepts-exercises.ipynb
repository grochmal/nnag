{
 "cells": [
  {
   "cell_type": "markdown",
   "metadata": {},
   "source": [
    "# Demystifying Neural Networks \n",
    "\n",
    "---"
   ]
  },
  {
   "cell_type": "markdown",
   "metadata": {},
   "source": [
    "# Exercises - Concepts\n",
    "\n",
    "We will do these *on paper* first and then in `numpy`."
   ]
  },
  {
   "cell_type": "code",
   "execution_count": null,
   "metadata": {},
   "outputs": [],
   "source": [
    "import numpy as np"
   ]
  },
  {
   "cell_type": "markdown",
   "metadata": {},
   "source": [
    "#### 1. Evaluate (on paper) the dot product of\n",
    "\n",
    "A) $\\vec{x} = [3, 7]$ and $\\vec{y} = [5, 12]$\n",
    "\n",
    "B) $\\vec{x} = [1, -6, 11]$ and $\\vec{y} = [2, 4, -8]$\n",
    "\n",
    "C) $\\vec{x} = [2, 2, -7, 9, 3]$ and $\\vec{y} = [1, 1, 1, 0, 1]$"
   ]
  },
  {
   "cell_type": "markdown",
   "metadata": {},
   "source": [
    "#### 2. Evaluate the previous exercise using `numpy` arrays (use `np.dot`)"
   ]
  },
  {
   "cell_type": "code",
   "execution_count": null,
   "metadata": {},
   "outputs": [],
   "source": []
  },
  {
   "cell_type": "markdown",
   "metadata": {},
   "source": [
    "#### 3. Evaluate (on paper) the following matrix multiplications\n",
    "\n",
    "$$\n",
    "A =\n",
    "\\left[\n",
    "\\begin{matrix}\n",
    "1 &  7 &  5 &  7 \\\\\n",
    "3 &  3 & -1 & -6 \\\\\n",
    "1 & -3 &  1 & 11 \\\\\n",
    "\\end{matrix}\n",
    "\\right] \\\\\n",
    "B =\n",
    "\\left[\n",
    "\\begin{matrix}\n",
    "0 &  3 &  5 \\\\\n",
    "2 &  2 & -1 \\\\\n",
    "0 & -3 &  1 \\\\\n",
    "1 &  0 & -1 \\\\\n",
    "\\end{matrix}\n",
    "\\right] \\\\\n",
    "$$\n",
    "\n",
    "A) $A \\cdot B =$\n",
    "\n",
    "B) $B \\cdot A =$"
   ]
  },
  {
   "cell_type": "markdown",
   "metadata": {},
   "source": [
    "#### 4. Evaluate the previous exercise using `numpy` arrays (use `np.dot`)"
   ]
  },
  {
   "cell_type": "code",
   "execution_count": null,
   "metadata": {},
   "outputs": [],
   "source": []
  },
  {
   "cell_type": "markdown",
   "metadata": {},
   "source": [
    "#### 5. Evaluate a network forward pass\n",
    "\n",
    "Using the matrices below as the ones in the ANN picture ($W, W_B, W', W'_B, W'', W''_B$)\n",
    "evaluate the vector $\\vec{x} = [3, 7]$ passing through the network.\n",
    "\n",
    "Note: remember to evaluate the activation function (`np.tanh`)."
   ]
  },
  {
   "cell_type": "code",
   "execution_count": null,
   "metadata": {},
   "outputs": [],
   "source": [
    "W = np.array([\n",
    "    [ .5, .3],\n",
    "    [-.3, .2],\n",
    "    [ .1, .1],\n",
    "])\n",
    "W_B = np.array([.5, .2, -.1])\n",
    "Wx = np.array([\n",
    "    [.3, -.5, .6],\n",
    "    [.1, -.1, .9],\n",
    "])\n",
    "Wx_B = np.array([.1, .1])\n",
    "Wxx = np.array([\n",
    "    [.3, .6],\n",
    "    [.1, .9],\n",
    "])\n",
    "Wxx_B = np.array([-.1, .2])"
   ]
  }
 ],
 "metadata": {
  "kernelspec": {
   "display_name": "Python 3",
   "language": "python",
   "name": "python3"
  },
  "language_info": {
   "codemirror_mode": {
    "name": "ipython",
    "version": 3
   },
   "file_extension": ".py",
   "mimetype": "text/x-python",
   "name": "python",
   "nbconvert_exporter": "python",
   "pygments_lexer": "ipython3",
   "version": "3.6.6"
  }
 },
 "nbformat": 4,
 "nbformat_minor": 2
}
