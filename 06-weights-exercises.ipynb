{
 "cells": [
  {
   "cell_type": "markdown",
   "metadata": {},
   "source": [
    "# Demystifying Neural Networks \n",
    "\n",
    "---"
   ]
  },
  {
   "cell_type": "markdown",
   "metadata": {},
   "source": [
    "# Exercises - ANN Weights\n",
    "\n",
    "We will generate matrices that can be used as an ANN.\n",
    "\n",
    "You can generate matrices with any function from `numpy.random`.\n",
    "You can provide a tuple to the `size=` parameter to get an array\n",
    "of that shape.  For example, `np.random.normal(0, 1, (3, 6))`\n",
    "generates a matrix of 3 rows and 6 columns."
   ]
  },
  {
   "cell_type": "code",
   "execution_count": null,
   "metadata": {},
   "outputs": [],
   "source": [
    "import numpy as np"
   ]
  },
  {
   "cell_type": "markdown",
   "metadata": {},
   "source": [
    "#### 1. Generate the following matrices with values from the normal distribution\n",
    "\n",
    "A) $A_{2 \\times 3}$\n",
    "\n",
    "B) $B_{7 \\times 5}$"
   ]
  },
  {
   "cell_type": "code",
   "execution_count": null,
   "metadata": {},
   "outputs": [],
   "source": []
  },
  {
   "cell_type": "markdown",
   "metadata": {},
   "source": [
    "#### 2. Generate matrices of the same size as the used in the `pytorch` network\n",
    "\n",
    "$$\n",
    "W_{8 \\times 20}, W_{B\\: 20 \\times 1},\n",
    "W'_{20 \\times 10}, W'_{B\\: 10 \\times 1},\n",
    "W'_{10 \\times 2}, W'_{B\\: 2 \\times 1}\n",
    "$$"
   ]
  },
  {
   "cell_type": "code",
   "execution_count": null,
   "metadata": {},
   "outputs": [],
   "source": []
  },
  {
   "cell_type": "markdown",
   "metadata": {},
   "source": [
    "Weight generation is a big topic in ANN research.\n",
    "We will use one well accepted way of generating ways but there are plethora of others.\n",
    "\n",
    "The way we will generate weight matrices is to:\n",
    "If we need to generate a matrix of size $p \\times n$,\n",
    "we take all values for the matrix from the normal distribution\n",
    "with mean and standard deviation as:\n",
    "\n",
    "$$\n",
    "\\mu = 0 \\\\\n",
    "\\sigma = \\frac{1}{n + p}\n",
    "$$\n",
    "\n",
    "In `numpy` the mean argument is `loc=` and standard deviation is called `scale=`"
   ]
  },
  {
   "cell_type": "markdown",
   "metadata": {},
   "source": [
    "#### 3. Generate the same matrices as above but use the distribution describe above, then evaluate\n",
    "\n",
    "$$\n",
    "X = \\left[\n",
    "\\begin{matrix}\n",
    "102.50781 & 58.88243 &  0.46532 & -0.51509 & 1.67726 & 14.86015 & 10.57649 & 127.39358 \\\\\n",
    "142.07812 & 45.28807 & -0.32033 &  0.28395 & 5.37625 & 29.00990 &  6.07627 &  37.83139 \\\\\n",
    "138.17969 & 51.52448 & -0.03185 &  0.04680 & 6.33027 & 31.57635 &  5.15594 &  26.14331 \\\\\n",
    "\\end{matrix}\n",
    "\\right]\n",
    "$$\n",
    "\n",
    "(These are the first three rows in the pulsar dataset)\n",
    "\n",
    "$$\n",
    "\\hat{Y}_{2 \\times 3} = tanh(W''_{2 \\times 10} \\times\n",
    "    tanh(W'_{10 \\times 25} \\times\n",
    "        tanh(W_{25 \\times 8} \\times X^T + W_{B\\: 25 \\times 1})\n",
    "    + W'_{B\\: 10 \\times 1})\n",
    "+ W''_{B\\: 2 \\times 1})\n",
    "$$"
   ]
  },
  {
   "cell_type": "code",
   "execution_count": null,
   "metadata": {},
   "outputs": [],
   "source": [
    "X = np.array([\n",
    "    [102.50781, 58.88243,  0.46532, -0.51509, 1.67726, 14.86015, 10.57649, 127.39358],\n",
    "    [142.07812, 45.28807, -0.32033,  0.28395, 5.37625, 29.00990,  6.07627,  37.83139],\n",
    "    [138.17969, 51.52448, -0.03185,  0.04680, 6.33027, 31.57635,  5.15594,  26.14331],\n",
    "])"
   ]
  }
 ],
 "metadata": {
  "kernelspec": {
   "display_name": "Python 3",
   "language": "python",
   "name": "python3"
  },
  "language_info": {
   "codemirror_mode": {
    "name": "ipython",
    "version": 3
   },
   "file_extension": ".py",
   "mimetype": "text/x-python",
   "name": "python",
   "nbconvert_exporter": "python",
   "pygments_lexer": "ipython3",
   "version": "3.6.6"
  }
 },
 "nbformat": 4,
 "nbformat_minor": 2
}
