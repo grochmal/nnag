{
 "cells": [
  {
   "cell_type": "markdown",
   "metadata": {},
   "source": [
    "# Demystifying Neural Networks \n",
    "\n",
    "---"
   ]
  },
  {
   "cell_type": "markdown",
   "metadata": {},
   "source": [
    "# Exercises - Concepts\n",
    "\n",
    "We will do these *on paper* first and then in `numpy`."
   ]
  },
  {
   "cell_type": "code",
   "execution_count": 1,
   "metadata": {},
   "outputs": [],
   "source": [
    "import numpy as np"
   ]
  },
  {
   "cell_type": "markdown",
   "metadata": {},
   "source": [
    "#### 1. Evaluate (on paper) the dot product of\n",
    "\n",
    "A) $\\vec{x} = [3, 7]$ and $\\vec{y} = [5, 12]$\n",
    "\n",
    "B) $\\vec{x} = [1, -6, 11]$ and $\\vec{y} = [2, 4, -8]$\n",
    "\n",
    "C) $\\vec{x} = [2, 2, -7, 9, 3]$ and $\\vec{y} = [1, 1, 1, 0, 1]$"
   ]
  },
  {
   "cell_type": "markdown",
   "metadata": {},
   "source": [
    "A) $3 \\cdot 5 + 7 \\cdot 12 = 15 + 84 = 99$\n",
    "\n",
    "B) $1 \\cdot 2 + (-6) \\cdot 4 + 11 \\cdot (-8) = 2 -24 - 88 = -110$\n",
    "\n",
    "C) $2 \\cdot 1 + 2 \\cdot 1 + (-7) \\cdot 1 + 9 \\cdot 0 + 3 \\cdot 1 = 2 + 2 -7 + 3 = 0$"
   ]
  },
  {
   "cell_type": "markdown",
   "metadata": {},
   "source": [
    "#### 2. Evaluate the previous exercise using `numpy` arrays (use `np.dot` or `@`)"
   ]
  },
  {
   "cell_type": "code",
   "execution_count": 2,
   "metadata": {},
   "outputs": [
    {
     "name": "stdout",
     "output_type": "stream",
     "text": [
      "99\n",
      "-110\n",
      "0\n"
     ]
    }
   ],
   "source": [
    "x1 = np.array([3, 7])\n",
    "y1 = np.array([5, 12])\n",
    "print(x1 @ y1)\n",
    "x2 = np.array([1, -6, 11])\n",
    "y2 = np.array([2,  4, -8])\n",
    "print(x2 @ y2)\n",
    "x3 = np.array([2, 2, -7, 9, 3])\n",
    "y3 = np.array([1, 1,  1, 0, 1])\n",
    "print(x3 @ y3)"
   ]
  },
  {
   "cell_type": "markdown",
   "metadata": {},
   "source": [
    "#### 3. Evaluate (on paper) the following matrix multiplications\n",
    "\n",
    "$$\n",
    "A =\n",
    "\\left[\n",
    "\\begin{matrix}\n",
    "1 &  7 &  5 &  7 \\\\\n",
    "3 &  3 & -1 & -6 \\\\\n",
    "1 & -3 &  1 & 11 \\\\\n",
    "\\end{matrix}\n",
    "\\right] \\\\\n",
    "B =\n",
    "\\left[\n",
    "\\begin{matrix}\n",
    "0 &  3 &  5 \\\\\n",
    "2 &  2 & -1 \\\\\n",
    "0 & -3 &  1 \\\\\n",
    "1 &  0 & -1 \\\\\n",
    "\\end{matrix}\n",
    "\\right] \\\\\n",
    "$$\n",
    "\n",
    "A) $A \\cdot B =$\n",
    "\n",
    "B) $B \\cdot A =$"
   ]
  },
  {
   "cell_type": "markdown",
   "metadata": {},
   "source": [
    "A)\n",
    "\n",
    "$$\n",
    "\\left[\n",
    "\\begin{matrix}\n",
    "1 &  7 &  5 &  7 \\\\\n",
    "3 &  3 & -1 & -6 \\\\\n",
    "1 & -3 &  1 & 11 \\\\\n",
    "\\end{matrix}\n",
    "\\right] \\cdot\n",
    "\\left[\n",
    "\\begin{matrix}\n",
    "0 &  3 &  5 \\\\\n",
    "2 &  2 & -1 \\\\\n",
    "0 & -3 &  1 \\\\\n",
    "1 &  0 & -1 \\\\\n",
    "\\end{matrix}\n",
    "\\right] \\\\\n",
    "=\n",
    "\\left[\n",
    "\\begin{matrix}\n",
    "1 \\cdot 0 +   7  \\cdot   2  +   5  \\cdot   0  +   7  \\cdot   1  &\n",
    "1 \\cdot 3 +   7  \\cdot   2  +   5  \\cdot (-3) +   7  \\cdot   0  &\n",
    "1 \\cdot 5 +   7  \\cdot (-1) +   5  \\cdot   1  +   7  \\cdot (-1) \\\\\n",
    "3 \\cdot 0 +   3  \\cdot   2  + (-1) \\cdot   0  + (-6) \\cdot   1  &\n",
    "3 \\cdot 3 +   3  \\cdot   2  + (-1) \\cdot (-3) + (-6) \\cdot   0  &\n",
    "3 \\cdot 5 +   3  \\cdot (-1) + (-1) \\cdot   1  + (-6) \\cdot (-1) \\\\\n",
    "1 \\cdot 0 + (-3) \\cdot   2  +   1  \\cdot   0  +  11  \\cdot   1  &\n",
    "1 \\cdot 3 + (-3) \\cdot   2  +   1  \\cdot (-3) +  11  \\cdot   0  &\n",
    "1 \\cdot 5 + (-3) \\cdot (-1) +   1  \\cdot   1  +  11  \\cdot (-1) \\\\\n",
    "\\end{matrix}\n",
    "\\right] \\\\\n",
    "=\n",
    "\\left[\n",
    "\\begin{matrix}\n",
    "21 &  2 & -4 \\\\\n",
    " 0 & 18 & 17 \\\\\n",
    " 5 & -6 & -2 \\\\\n",
    "\\end{matrix}\n",
    "\\right]\n",
    "$$"
   ]
  },
  {
   "cell_type": "markdown",
   "metadata": {},
   "source": [
    "B)\n",
    "\n",
    "$$\n",
    "\\left[\n",
    "\\begin{matrix}\n",
    "0 &  3 &  5 \\\\\n",
    "2 &  2 & -1 \\\\\n",
    "0 & -3 &  1 \\\\\n",
    "1 &  0 & -1 \\\\\n",
    "\\end{matrix}\n",
    "\\right] \\cdot\n",
    "\\left[\n",
    "\\begin{matrix}\n",
    "1 &  7 &  5 &  7 \\\\\n",
    "3 &  3 & -1 & -6 \\\\\n",
    "1 & -3 &  1 & 11 \\\\\n",
    "\\end{matrix}\n",
    "\\right]\n",
    "=\n",
    "\\left[\n",
    "\\begin{matrix}\n",
    "0 \\cdot 1 +   3  \\cdot   3  +   5  \\cdot   1  &\n",
    "0 \\cdot 7 +   3  \\cdot   3  +   5  \\cdot (-3) &\n",
    "0 \\cdot 5 +   3  \\cdot (-1) +   5  \\cdot   1  &\n",
    "0 \\cdot 7 +   3  \\cdot (-6) +   5  \\cdot  11  \\\\\n",
    "2 \\cdot 1 +   2  \\cdot   3  + (-1) \\cdot   1  &\n",
    "2 \\cdot 7 +   2  \\cdot   3  + (-1) \\cdot (-3) &\n",
    "2 \\cdot 5 +   2  \\cdot (-1) + (-1) \\cdot   1  &\n",
    "2 \\cdot 7 +   2  \\cdot (-6) + (-1) \\cdot  11  \\\\\n",
    "0 \\cdot 1 + (-3) \\cdot   3  +   1  \\cdot   1  &\n",
    "0 \\cdot 7 + (-3) \\cdot   3  +   1  \\cdot (-3) &\n",
    "0 \\cdot 5 + (-3) \\cdot (-1) +   1  \\cdot   1  &\n",
    "0 \\cdot 7 + (-3) \\cdot (-6) +   1  \\cdot  11  \\\\\n",
    "1 \\cdot 1 +   0  \\cdot   3  + (-1) \\cdot   1  &\n",
    "1 \\cdot 7 +   0  \\cdot   3  + (-1) \\cdot (-3) &\n",
    "1 \\cdot 5 +   0  \\cdot (-1) + (-1) \\cdot   1  &\n",
    "1 \\cdot 7 +   0  \\cdot (-6) + (-1) \\cdot  11  &\n",
    "\\end{matrix}\n",
    "\\right] \\\\\n",
    "=\n",
    "\\left[\n",
    "\\begin{matrix}\n",
    "14 &  -6 & 2 & 37 \\\\\n",
    " 7 &  23 & 7 & -9 \\\\\n",
    "-8 & -12 & 4 & 29 \\\\\n",
    " 0 &  10 & 4 & -4 \\\\\n",
    "\\end{matrix}\n",
    "\\right]\n",
    "$$"
   ]
  },
  {
   "cell_type": "markdown",
   "metadata": {},
   "source": [
    "#### 4. Evaluate the previous exercise using `numpy` arrays (use `np.dot` or `@`)"
   ]
  },
  {
   "cell_type": "code",
   "execution_count": 3,
   "metadata": {},
   "outputs": [
    {
     "name": "stdout",
     "output_type": "stream",
     "text": [
      "[[21  2 -4]\n",
      " [ 0 18 17]\n",
      " [ 5 -6 -2]]\n",
      "[[ 14  -6   2  37]\n",
      " [  7  23   7  -9]\n",
      " [ -8 -12   4  29]\n",
      " [  0  10   4  -4]]\n"
     ]
    }
   ],
   "source": [
    "A = np.array([\n",
    "    [1,  7,  5,  7],\n",
    "    [3,  3, -1, -6],\n",
    "    [1, -3,  1, 11],\n",
    "])\n",
    "B = np.array([\n",
    "    [0,  3,  5],\n",
    "    [2,  2, -1],\n",
    "    [0, -3,  1],\n",
    "    [1,  0, -1],\n",
    "])\n",
    "print(A @ B)\n",
    "print(B @ A)"
   ]
  },
  {
   "cell_type": "markdown",
   "metadata": {},
   "source": [
    "#### 5. Evaluate a network forward pass\n",
    "\n",
    "Using the matrices below as the ones in the ANN picture ($W, W_B, W', W'_B, W'', W''_B$)\n",
    "evaluate the vector $\\vec{x} = [3, 7]$ passing through the network.\n",
    "\n",
    "Note: remember to evaluate the activation function (`np.tanh`)."
   ]
  },
  {
   "cell_type": "code",
   "execution_count": 4,
   "metadata": {},
   "outputs": [],
   "source": [
    "W = np.array([\n",
    "    [ .5, .3],\n",
    "    [-.3, .2],\n",
    "    [ .1, .1],\n",
    "])\n",
    "W_B = np.array([.5, .2, -.1])\n",
    "Wx = np.array([\n",
    "    [.3, -.5, .6],\n",
    "    [.1, -.1, .9],\n",
    "])\n",
    "Wx_B = np.array([.1, .1])\n",
    "Wxx = np.array([\n",
    "    [.3, .6],\n",
    "    [.1, .9],\n",
    "])\n",
    "Wxx_B = np.array([-.1, .2])"
   ]
  },
  {
   "cell_type": "code",
   "execution_count": 5,
   "metadata": {},
   "outputs": [
    {
     "name": "stdout",
     "output_type": "stream",
     "text": [
      "[0.41205389 0.68471057]\n"
     ]
    }
   ],
   "source": [
    "x = np.array([3., 7.])\n",
    "y_hat = np.tanh(Wxx @ np.tanh(Wx @ np.tanh(W @ x + W_B) + Wx_B) + Wxx_B)\n",
    "print(y_hat)"
   ]
  }
 ],
 "metadata": {
  "kernelspec": {
   "display_name": "Python 3",
   "language": "python",
   "name": "python3"
  },
  "language_info": {
   "codemirror_mode": {
    "name": "ipython",
    "version": 3
   },
   "file_extension": ".py",
   "mimetype": "text/x-python",
   "name": "python",
   "nbconvert_exporter": "python",
   "pygments_lexer": "ipython3",
   "version": "3.7.3"
  }
 },
 "nbformat": 4,
 "nbformat_minor": 2
}
