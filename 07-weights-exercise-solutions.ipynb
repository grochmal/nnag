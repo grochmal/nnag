{
 "cells": [
  {
   "cell_type": "markdown",
   "metadata": {},
   "source": [
    "# Demystifying Neural Networks \n",
    "\n",
    "---"
   ]
  },
  {
   "cell_type": "markdown",
   "metadata": {},
   "source": [
    "# Exercises - ANN Weights\n",
    "\n",
    "We will generate matrices that can be used as an ANN.\n",
    "\n",
    "You can generate matrices with any function from `numpy.random`.\n",
    "You can provide a tuple to the `size=` parameter to get an array\n",
    "of that shape.  For example, `np.random.normal(0, 1, (3, 6))`\n",
    "generates a matrix of 3 rows and 6 columns."
   ]
  },
  {
   "cell_type": "code",
   "execution_count": 1,
   "metadata": {},
   "outputs": [],
   "source": [
    "import numpy as np"
   ]
  },
  {
   "cell_type": "markdown",
   "metadata": {},
   "source": [
    "#### 1. Generate the following matrices with values from the normal distribution\n",
    "\n",
    "A) $A_{2 \\times 3}$\n",
    "\n",
    "B) $B_{7 \\times 5}$"
   ]
  },
  {
   "cell_type": "code",
   "execution_count": 2,
   "metadata": {},
   "outputs": [
    {
     "name": "stdout",
     "output_type": "stream",
     "text": [
      "[[ 0.41368386 -0.46197109 -0.31394177]\n",
      " [-0.76525426 -0.12080901 -1.15777574]]\n",
      "[[-1.24587997  0.9302691   2.48813365  0.02748313 -2.26752876]\n",
      " [-0.6345608   0.91266004  1.07964376 -0.27285384  0.58175895]\n",
      " [ 1.11946317  0.75285805  1.0308717   1.50849316 -1.07940968]\n",
      " [ 0.69269657  1.19468001  1.1692544  -0.88120546  0.55920565]\n",
      " [-1.57520478  0.04654562  1.06973026  1.78777095 -0.99759735]\n",
      " [-0.30326333  0.42675967 -1.58884367 -0.91625    -0.20531768]\n",
      " [-0.30970048 -0.44785164 -1.25832689 -0.87159608  2.22253136]]\n"
     ]
    }
   ],
   "source": [
    "A = np.random.normal(0, 1, (2, 3))\n",
    "B = np.random.normal(0, 1, (7, 5))\n",
    "print(A)\n",
    "print(B)"
   ]
  },
  {
   "cell_type": "markdown",
   "metadata": {},
   "source": [
    "#### 2. Generate matrices of the same size as the used in the `pytorch` network\n",
    "\n",
    "$$\n",
    "W_{25 \\times 8}, W_{B\\: 25 \\times 1},\n",
    "W'_{10 \\times 25}, W'_{B\\: 10 \\times 1},\n",
    "W'_{2 \\times 10}, W'_{B\\: 2 \\times 1}\n",
    "$$"
   ]
  },
  {
   "cell_type": "code",
   "execution_count": 3,
   "metadata": {},
   "outputs": [
    {
     "name": "stdout",
     "output_type": "stream",
     "text": [
      "[(25, 8), (25, 1), (10, 25), (10, 1), (2, 10), (2, 1)]\n"
     ]
    }
   ],
   "source": [
    "W = np.random.normal(0, 1, (25, 8))\n",
    "W_B = np.random.normal(0, 1, (25, 1))\n",
    "Wx = np.random.normal(0, 1, (10, 25))\n",
    "Wx_B = np.random.normal(0, 1, (10, 1))\n",
    "Wxx = np.random.normal(0, 1, (2, 10))\n",
    "Wxx_B = np.random.normal(0, 1, (2, 1))\n",
    "\n",
    "weights = [W, W_B, Wx, Wx_B, Wxx, Wxx_B]\n",
    "print([x.shape for x in weights])"
   ]
  },
  {
   "cell_type": "markdown",
   "metadata": {},
   "source": [
    "---\n",
    "\n",
    "Weight generation is a big topic in ANN research.\n",
    "We will use one well accepted way of generating ways but there are plethora of others.\n",
    "\n",
    "The way we will generate weight matrices is to:\n",
    "If we need to generate a matrix of size $p \\times n$,\n",
    "we take all values for the matrix from the normal distribution\n",
    "with mean and standard deviation as:\n",
    "\n",
    "$$\n",
    "\\mu = 0 \\\\\n",
    "\\sigma = \\frac{1}{n + p}\n",
    "$$\n",
    "\n",
    "In `numpy` the mean argument is `loc=` and standard deviation is called `scale=`"
   ]
  },
  {
   "cell_type": "markdown",
   "metadata": {},
   "source": [
    "#### 3. Generate the same matrices as above but use the distribution describe above, then evaluate\n",
    "\n",
    "$$\n",
    "X = \\left[\n",
    "\\begin{matrix}\n",
    "102.50781 & 58.88243 &  0.46532 & -0.51509 & 1.67726 & 14.86015 & 10.57649 & 127.39358 \\\\\n",
    "142.07812 & 45.28807 & -0.32033 &  0.28395 & 5.37625 & 29.00990 &  6.07627 &  37.83139 \\\\\n",
    "138.17969 & 51.52448 & -0.03185 &  0.04680 & 6.33027 & 31.57635 &  5.15594 &  26.14331 \\\\\n",
    "\\end{matrix}\n",
    "\\right]\n",
    "$$\n",
    "\n",
    "(These are the first three rows in the pulsar dataset)\n",
    "\n",
    "$$\n",
    "\\hat{Y}_{2 \\times 3} = tanh(W''_{2 \\times 10} \\times\n",
    "    tanh(W'_{10 \\times 25} \\times\n",
    "        tanh(W_{25 \\times 8} \\times X^T + W_{B\\: 25 \\times 1})\n",
    "    + W'_{B\\: 10 \\times 1})\n",
    "+ W''_{B\\: 2 \\times 1})\n",
    "$$"
   ]
  },
  {
   "cell_type": "code",
   "execution_count": 4,
   "metadata": {},
   "outputs": [],
   "source": [
    "X = np.array([\n",
    "    [102.50781, 58.88243,  0.46532, -0.51509, 1.67726, 14.86015, 10.57649, 127.39358],\n",
    "    [142.07812, 45.28807, -0.32033,  0.28395, 5.37625, 29.00990,  6.07627,  37.83139],\n",
    "    [138.17969, 51.52448, -0.03185,  0.04680, 6.33027, 31.57635,  5.15594,  26.14331],\n",
    "])\n",
    "W = np.random.normal(0, 1/(8+25), (25, 8))\n",
    "W_B = np.random.normal(0, 1/(25+1), (25, 1))\n",
    "Wx = np.random.normal(0, 1/(10+25), (10, 25))\n",
    "Wx_B = np.random.normal(0, 1/(10+1), (10, 1))\n",
    "Wxx = np.random.normal(0, 1/(2+10), (2, 10))\n",
    "Wxx_B = np.random.normal(0, 1/(2+1), (2, 1));"
   ]
  },
  {
   "cell_type": "code",
   "execution_count": 5,
   "metadata": {},
   "outputs": [
    {
     "name": "stdout",
     "output_type": "stream",
     "text": [
      "[[-0.36091669  0.03487534]\n",
      " [-0.38056382  0.04280491]\n",
      " [-0.38015046  0.04409401]]\n"
     ]
    }
   ],
   "source": [
    "Y_hat = np.tanh(Wxx @ np.tanh(Wx @ np.tanh(W @ X.T + W_B) + Wx_B) + Wxx_B)\n",
    "print(Y_hat.T)"
   ]
  }
 ],
 "metadata": {
  "kernelspec": {
   "display_name": "Python 3",
   "language": "python",
   "name": "python3"
  },
  "language_info": {
   "codemirror_mode": {
    "name": "ipython",
    "version": 3
   },
   "file_extension": ".py",
   "mimetype": "text/x-python",
   "name": "python",
   "nbconvert_exporter": "python",
   "pygments_lexer": "ipython3",
   "version": "3.7.3"
  }
 },
 "nbformat": 4,
 "nbformat_minor": 2
}
