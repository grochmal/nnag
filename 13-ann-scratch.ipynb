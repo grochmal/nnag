{
 "cells": [
  {
   "cell_type": "markdown",
   "metadata": {},
   "source": [
    "# Demystifying Neural Networks \n",
    "\n",
    "---"
   ]
  },
  {
   "attachments": {
    "scratch.svg": {
     "image/svg+xml": [
      "PD94bWwgdmVyc2lvbj0iMS4wIiBlbmNvZGluZz0iVVRGLTgiIHN0YW5kYWxvbmU9Im5vIj8+CjxzdmcKICAgeG1sbnM6ZGM9Imh0dHA6Ly9wdXJsLm9yZy9kYy9lbGVtZW50cy8xLjEvIgogICB4bWxuczpjYz0iaHR0cDovL2NyZWF0aXZlY29tbW9ucy5vcmcvbnMjIgogICB4bWxuczpyZGY9Imh0dHA6Ly93d3cudzMub3JnLzE5OTkvMDIvMjItcmRmLXN5bnRheC1ucyMiCiAgIHhtbG5zOnN2Zz0iaHR0cDovL3d3dy53My5vcmcvMjAwMC9zdmciCiAgIHhtbG5zPSJodHRwOi8vd3d3LnczLm9yZy8yMDAwL3N2ZyIKICAgeG1sbnM6c29kaXBvZGk9Imh0dHA6Ly9zb2RpcG9kaS5zb3VyY2Vmb3JnZS5uZXQvRFREL3NvZGlwb2RpLTAuZHRkIgogICB4bWxuczppbmtzY2FwZT0iaHR0cDovL3d3dy5pbmtzY2FwZS5vcmcvbmFtZXNwYWNlcy9pbmtzY2FwZSIKICAgaWQ9InN2ZzE0MDIzIgogICB2ZXJzaW9uPSIxLjEiCiAgIHZpZXdCb3g9IjAgMCAyNzAuOTMzMzMgNjcuNzMzMzM1IgogICBoZWlnaHQ9IjI1NiIKICAgd2lkdGg9IjEwMjQiCiAgIHNvZGlwb2RpOmRvY25hbWU9InNjcmF0Y2guc3ZnIgogICBpbmtzY2FwZTp2ZXJzaW9uPSIwLjkyLjQgNWRhNjg5YzMxMywgMjAxOS0wMS0xNCI+CiAgPHNvZGlwb2RpOm5hbWVkdmlldwogICAgIHBhZ2Vjb2xvcj0iI2ZmZmZmZiIKICAgICBib3JkZXJjb2xvcj0iIzY2NjY2NiIKICAgICBib3JkZXJvcGFjaXR5PSIxIgogICAgIG9iamVjdHRvbGVyYW5jZT0iMTAiCiAgICAgZ3JpZHRvbGVyYW5jZT0iMTAiCiAgICAgZ3VpZGV0b2xlcmFuY2U9IjEwIgogICAgIGlua3NjYXBlOnBhZ2VvcGFjaXR5PSIwIgogICAgIGlua3NjYXBlOnBhZ2VzaGFkb3c9IjIiCiAgICAgaW5rc2NhcGU6d2luZG93LXdpZHRoPSIxOTIwIgogICAgIGlua3NjYXBlOndpbmRvdy1oZWlnaHQ9IjEwNjEiCiAgICAgaWQ9Im5hbWVkdmlldzYyMjUiCiAgICAgc2hvd2dyaWQ9ImZhbHNlIgogICAgIGlua3NjYXBlOnpvb209IjEuNjczODI4MSIKICAgICBpbmtzY2FwZTpjeD0iNTEyIgogICAgIGlua3NjYXBlOmN5PSIxMjgiCiAgICAgaW5rc2NhcGU6d2luZG93LXg9IjAiCiAgICAgaW5rc2NhcGU6d2luZG93LXk9IjE5IgogICAgIGlua3NjYXBlOndpbmRvdy1tYXhpbWl6ZWQ9IjAiCiAgICAgaW5rc2NhcGU6Y3VycmVudC1sYXllcj0ic3ZnMTQwMjMiIC8+CiAgPGRlZnMKICAgICBpZD0iZGVmczE0MDE3IiAvPgogIDxtZXRhZGF0YQogICAgIGlkPSJtZXRhZGF0YTE0MDIwIj4KICAgIDxyZGY6UkRGPgogICAgICA8Y2M6V29yawogICAgICAgICByZGY6YWJvdXQ9IiI+CiAgICAgICAgPGRjOmZvcm1hdD5pbWFnZS9zdmcreG1sPC9kYzpmb3JtYXQ+CiAgICAgICAgPGRjOnR5cGUKICAgICAgICAgICByZGY6cmVzb3VyY2U9Imh0dHA6Ly9wdXJsLm9yZy9kYy9kY21pdHlwZS9TdGlsbEltYWdlIiAvPgogICAgICAgIDxkYzp0aXRsZT48L2RjOnRpdGxlPgogICAgICA8L2NjOldvcms+CiAgICA8L3JkZjpSREY+CiAgPC9tZXRhZGF0YT4KICA8ZwogICAgIHRyYW5zZm9ybT0ibWF0cml4KC0wLjEyNSwwLDAsMC4xMjUsMjYwLjU4Njc4LDQ1LjQyNTAwNykiCiAgICAgaWQ9ImxheWVyMSI+CiAgICA8ZwogICAgICAgdHJhbnNmb3JtPSJ0cmFuc2xhdGUoLTI4LjY2OTA3LC0xMDYuODcxMDYpIgogICAgICAgaWQ9ImcxNjkxMyI+CiAgICAgIDxwYXRoCiAgICAgICAgIHN0eWxlPSJmaWxsOiNmZjJhMmE7ZmlsbC1vcGFjaXR5OjE7c3Ryb2tlOiNmZjAwMDA7c3Ryb2tlLXdpZHRoOjAuMjY0NTgzMzJweDtzdHJva2UtbGluZWNhcDpidXR0O3N0cm9rZS1saW5lam9pbjptaXRlcjtzdHJva2Utb3BhY2l0eToxIgogICAgICAgICBkPSJtIDYxLjg2ODk2MiwyNjQuNDI2MTggMTUzLjE0NTQ0OCwwLjI2NzI5IC0wLjI2NzI3LC0yNTYuODQ1OTk0IDE1MS40NDk2NSwwLjI5MTg4IC0xLjI0NDE4LC03NS4zOTQ2MjEgYyAwLDAgLTIuOTM5OTcsLTIxLjM4MTU2MSAtMTQuNDMyNTQsLTMzLjQwODY4NSAtMTEuNDkyNiwtMTIuMDI3MTMgLTM4Ljg1MjA3LC0yMi41OTk2MyAtNTkuMDY2NTgsLTI2LjQ1OTY5IC01My4xODY2MywtMTAuMTU2MjYgLTk5Ljk1ODgsLTkuMDg3MTggLTE1NS4wMTYzMywwLjUzNDU0IC0xMi42Mzc0MiwyLjIwODQ4IC0zNi4wODEzOSw5LjM1NDQzIC01MS4wNDg0NzksMjcuNzk2MDMxIC0xNC45NjcwOTQsMTguNDQxNTk4IC0yMS42NDg4MzIsMzQuMjEwNSAtMjEuMzgxNTYyLDQzLjgzMjIwMyAwLjI2NzI2OSw5LjYyMTcwMiAtMi4xMzgxNTcsMzE5LjM4NzA0NiAtMi4xMzgxNTcsMzE5LjM4NzA0NiB6IgogICAgICAgICBpZD0icGF0aDE0MTk3IiAvPgogICAgICA8Y2lyY2xlCiAgICAgICAgIHN0eWxlPSJmaWxsOiNmZmZmZmY7ZmlsbC1vcGFjaXR5OjE7c3Ryb2tlOm5vbmU7c3Ryb2tlLXdpZHRoOjAuNzkzNzQ5OTk7c3Ryb2tlLW1pdGVybGltaXQ6NDtzdHJva2UtZGFzaGFycmF5Om5vbmU7c3Ryb2tlLW9wYWNpdHk6MSIKICAgICAgICAgaWQ9InBhdGgxNDE5OSIKICAgICAgICAgY3g9IjMwMC4wNTA5NiIKICAgICAgICAgY3k9Ii01OS41MTgzNjgiCiAgICAgICAgIHI9IjMwLjIzODA5NCIgLz4KICAgICAgPHBhdGgKICAgICAgICAgc3R5bGU9ImZpbGw6IzAwMDAwMDtmaWxsLW9wYWNpdHk6MTtzdHJva2U6bm9uZTtzdHJva2Utd2lkdGg6MC4yNjQ1ODMzMnB4O3N0cm9rZS1saW5lY2FwOmJ1dHQ7c3Ryb2tlLWxpbmVqb2luOm1pdGVyO3N0cm9rZS1vcGFjaXR5OjEiCiAgICAgICAgIGQ9Im0gMjI5LjMzNzA1LDI2LjY1MjUxMSBjIDAsMCA3LjI3NjA0LC0xMC40ODg4NSAxNi43MjU0NSwtOS43MzI4ODIgOS40NDk0LDAuNzU1OTQxIDExLjMzOTI4LDIuNDU2ODQxIDExLjUyODI3LDkuNDQ5NDA4IDAuMTg4OTksNi45OTI1NDEgMS44ODk4OCwxNy45NTM4NTggMC4xODg5OSwyMi40ODk1ODMgLTEuNzAwODksNC41MzU2OTkgLTYuMjM2NjEsNy4zNzA1MjUgLTEwLjk2MTMxLDcuOTM3NSAtNC43MjQ3LDAuNTY2OTQ5IC0xMS4xNTAzLC0yLjY0NTgzMyAtMTMuNDE4MTUsLTMuOTY4NzUgLTIuMjY3ODYsLTEuMzIyOTE2IC0zLjAyMzgxLC0zLjc3OTc4NCAtMy4wMjM4MSwtMy43Nzk3ODQgMCwwIC0zLjAyMzgxLDQuNTM1NzI1IC02LjgwMzU4LDQuNzI0NzE3IC0zLjc3OTc2LDAuMTg4OTkyIC02LjU1MDA2LDAuNTQ2OTQ3IC04LjgyMTg1LC0wLjY1NTc3IC0yLjI3MTc5LC0xLjIwMjcxNiAtNC4wMDkwNCwtMS44NzA4OTUgLTQuMDA5MDQsLTEuODcwODk1IDAsMCAtMy4zNDA4Nyw3LjYxNzE5NSAtNy42MTcxOCwxMC41NTcxNjYgLTQuMjc2MzEsMi45Mzk5NDQgLTEwLjI4OTg4LDUuMjExNzM2IC0xNy4xMDUyNSw0LjU0MzU4NCAtNi44MTUzNywtMC42NjgxNzkgLTEyLjY5NTMsLTIuNjcyNzE1IC0xNC4wMzE2NSwtNi41NDgxMiAtMS4zMzYzNSwtMy44NzU0MDUgLTEuMjAyNzEsLTE2LjU3MDY5NSAtMS4yMDI3MSwtMjAuNzEzMzgyIDAsLTQuMTQyNjg3IC0wLjEzMzY0LC05LjIyMDgwOSAwLC0xMi4xNjA3NTMgMC4xMzM2MywtMi45Mzk5NzEgMC4yNjcyNywtNS43NDYzIDIuOTM5OTYsLTcuODg0NDUxIDIuNjcyNywtMi4xMzgxNzcgNy4wODI2NCwtMy43NDE3OSAxNC44MzM0NiwtMy4zNDA4OTQgNy43NTA4MiwwLjQwMDkyMyAxMy4zNjM0OCwzLjYwODE1IDE2LjAzNjE3LDYuOTQ5MDE3IDIuNjcyNywzLjM0MDg2NyAzLjg3NTQxLDUuNjEyNjU5IDMuODc1NDEsNS42MTI2NTkgMCwwIDMuOTYzMTgsLTMuMzU0MzA4IDcuMjA5NTYsLTQuMDE1NzY3IDMuMjczNjEsLTAuNjY3MDA3IDYuMDU2OTYsLTAuODEwMTAzIDguNzcxMjYsLTAuMTgyMjY3IDIuNzE0MywwLjYyNzgzNiA0Ljg4NiwyLjU5MDA4MSA0Ljg4NiwyLjU5MDA4MSB6IgogICAgICAgICBpZD0icGF0aDE2ODgyIiAvPgogICAgICA8cGF0aAogICAgICAgICBzdHlsZT0iZmlsbDojMDAwMDAwO2ZpbGwtb3BhY2l0eToxO3N0cm9rZTpub25lO3N0cm9rZS13aWR0aDozO3N0cm9rZS1taXRlcmxpbWl0OjQ7c3Ryb2tlLWRhc2hhcnJheTpub25lO3N0cm9rZS1vcGFjaXR5OjEiCiAgICAgICAgIGQ9Ik0gMTEyOC45MDA0LDEwMDAuNzI2NiBBIDE4Mi42NjEsMTgyLjY2MSAwIDAgMCA5NTIuNzEwOTQsMTEzNS4zNTM1IEwgMzM3LjE0MjU4LDExMzUgMjM0LjI4NTE2LDExNzguNTcyMyBjIDAsMCAtMTQuMjg2LDE1LjcxMjkgLTIuODU3NDMsNDAuNzEyOSAxMS40Mjg1NywyNSAzMCwyNy4xNDI1IDMwLDI3LjE0MjUgbCA5Ny44NTc0MywtMzguNTcwMyA1ODguMzg2NzIsLTIuNzkyOSBhIDE4Mi42NjEsMTgyLjY2MSAwIDAgMCAxODEuMjI4NTIsMTYwLjk4NDMgMTgyLjY2MSwxODIuNjYxIDAgMCAwIDE4Mi42NjIxLC0xODIuNjYyMSAxODIuNjYxLDE4Mi42NjEgMCAwIDAgLTAuNjMyOCwtMTIuNjQyNiA1NS4zODE3NjgsNTUuMzgxNzY4IDAgMCAwIDE4LjQyNTgsMy4yMTY4IDU1LjM4MTc2OCw1NS4zODE3NjggMCAwIDAgNTUuMzgyOCwtNTUuMzgyOCA1NS4zODE3NjgsNTUuMzgxNzY4IDAgMCAwIC01LjgxNDUsLTI0LjY1MjMgODguNzE2ODAyLDg4LjcxNjgwMiAwIDAgMSA2LjU1NjcsLTAuMjY1NiA4OC43MTY4MDIsODguNzE2ODAyIDAgMCAxIDg4LjcxNjgsODguNzE2OCA4OC43MTY4MDIsODguNzE2ODAyIDAgMCAxIC04OC43MTY4LDg4LjcxNjggODguNzE2ODAyLDg4LjcxNjgwMiAwIDAgMSAtNC42ODc1LC0wLjIzNDQgbCAwLjc4MzIsNDcuNTAzOSBhIDEzOC4yMTQyOCwxMzguMjE0MjggMCAwIDAgNS45MjM4LDAuMjA5IDEzOC4yMTQyOCwxMzguMjE0MjggMCAwIDAgMTM4LjIxNDgsLTEzOC4yMTQ5IDEzOC4yMTQyOCwxMzguMjE0MjggMCAwIDAgLTEzOC4yMTQ4LC0xMzguMjE0OCAxMzguMjE0MjgsMTM4LjIxNDI4IDAgMCAwIC02Mi40OTIyLDE1LjA5NzYgYyAxLjg0NDQsMS45Mzk3IDMuNjIzMiwzLjk0OTcgNS4zNTE2LDYuMDA3OCBhIDU1LjM4MTc2OCw1NS4zODE3NjggMCAwIDAgLTEuMDAzOSwtMC4wNTEgNTUuMzgxNzY4LDU1LjM4MTc2OCAwIDAgMCAtNDUuNDkyMiwyMy45MDgyIDE4Mi42NjEsMTgyLjY2MSAwIDAgMCAtMTU0Ljk2MjksLTg2LjM3ODkgeiBtIDAsNTUuNTU4NiBhIDEyNy4xMDI2LDEyNy4xMDI2IDAgMCAxIDEyNy4xMDM1LDEyNy4xMDE1IDEyNy4xMDI2LDEyNy4xMDI2IDAgMCAxIC0xMjcuMTAzNSwxMjcuMTAzNSAxMjcuMTAyNiwxMjcuMTAyNiAwIDAgMSAtMTI3LjEwMTYsLTEyNy4xMDM1IDEyNy4xMDI2LDEyNy4xMDI2IDAgMCAxIDEyNy4xMDE2LC0xMjcuMTAxNSB6IgogICAgICAgICB0cmFuc2Zvcm09Im1hdHJpeCgwLjI2NDU4MzMzLDAsMCwwLjI2NDU4MzMzLDAsLTM4MC4zMzMzNSkiCiAgICAgICAgIGlkPSJwYXRoMTY4ODgiIC8+CiAgICA8L2c+CiAgPC9nPgogIDxnCiAgICAgYXJpYS1sYWJlbD0iTmV1cmFsIE5ldHMKKGZyb20gc2NyYXRjaCkiCiAgICAgc3R5bGU9ImZvbnQtc3R5bGU6bm9ybWFsO2ZvbnQtdmFyaWFudDpub3JtYWw7Zm9udC13ZWlnaHQ6bm9ybWFsO2ZvbnQtc3RyZXRjaDpub3JtYWw7Zm9udC1zaXplOjE5Ljc1NTU1NjExcHg7bGluZS1oZWlnaHQ6MS4yNTtmb250LWZhbWlseTonUm9jayBTYWx0JzstaW5rc2NhcGUtZm9udC1zcGVjaWZpY2F0aW9uOidSb2NrIFNhbHQnO3RleHQtYWxpZ246Y2VudGVyO2xldHRlci1zcGFjaW5nOjBweDt3b3JkLXNwYWNpbmc6MHB4O3RleHQtYW5jaG9yOm1pZGRsZTtmaWxsOiMwMDAwMDA7ZmlsbC1vcGFjaXR5OjE7c3Ryb2tlOm5vbmU7c3Ryb2tlLXdpZHRoOjAuMjY0NTgzMzIiCiAgICAgaWQ9InRleHQ2MjI5IgogICAgIHRyYW5zZm9ybT0idHJhbnNsYXRlKC0yMi4xMjk5MTEsLTAuNzkwMzUzOTUpIj4KICAgIDxwYXRoCiAgICAgICBzdHlsZT0iZm9udC1zaXplOjE5Ljc1NTU1NjExcHg7dGV4dC1hbGlnbjpjZW50ZXI7dGV4dC1hbmNob3I6bWlkZGxlO3N0cm9rZS13aWR0aDowLjI2NDU4MzMyIgogICAgICAgZD0ibSA2Ny40OTQwOTksMTEuNDc2NTM1IGMgLTEuNzkyOTkzLDMuMjI1MDk5IC0wLjI4NDA3Myw5LjM3MzY1NiAtMS40MDgzNiwxMy45MDk5MTYgLTAuMTc2MTc1LDUuNjA2MTA5IC01LjcyNzkwMiwzLjkzNDI1NyAtNy41MjQwODUsMC4yODkzOTEgLTEuMzIzOTg1LC0xLjU0ODg4NCAtMy44NTMxMjIsLTEwLjIwMTgwNCAtMy45NTQ5ODUsLTQuMDEyODQ3IC0wLjQxMTYzLDMuODM3NjU2IC0xLjQ5NDkwMSw3Ljc2MTQ2OCAtMS4yMzQ3MSwxMS41NTYyMjggLTIuMTc2NTksMi4zNjY1NTcgLTMuMjY0NDIyLC0yLjQwMjQ5IC0xLjQ0NjkzNiwtNC4zMjE1MjkgLTAuMTMxMzI3LC0yLjUzNzM3MSAwLjg1ODg3LC01LjU4NTE5NiAxLjIzNDczMSwtOC4wMDY0MDIgMS40MzgyMzQsLTIuOTc3MzkyIC0xLjY3MTY1NiwtNy45NzA3NDggMC4yNzAxMSwtOS45OTM1MjggMy4yMjE3MDIsMC45NTc4NDQgMi4zMTAxNjcsNi4xMDg4MyA0LjE4NjQ4LDguNTg1MTczIDEuMTE4ODUxLDEuOTExNTYgMy45NTgxODYsOS41Mzk5MDQgNi40NjMwMDIsNi4zMjc5NDQgMC43OTU0MDIsLTMuNzA2MDI5IDAuODYyNjk5LC03LjAxNTIyNyAwLjk4MzkyOCwtMTAuODYxNjk4IDAuMzAzNDgzLC0yLjQ1ODQ4MyAtMC42MzQyMzksLTQuODU5MzMzIC0xLjA0MTc5MiwtNy4wODAzNTggMi4wNjM2MzcsLTAuNzIxMjkxNSAyLjU3NzAxNiwyLjM2MjYzNyAzLjQ3MjYxNywzLjYwNzcxIHoiCiAgICAgICBpZD0icGF0aDYyMzMiCiAgICAgICBpbmtzY2FwZTpjb25uZWN0b3ItY3VydmF0dXJlPSIwIiAvPgogICAgPHBhdGgKICAgICAgIHN0eWxlPSJmb250LXNpemU6MTkuNzU1NTU2MTFweDt0ZXh0LWFsaWduOmNlbnRlcjt0ZXh0LWFuY2hvcjptaWRkbGU7c3Ryb2tlLXdpZHRoOjAuMjY0NTgzMzIiCiAgICAgICBkPSJtIDgxLjMyNjg0OCwxNy4wNTIwNzggYyAtMi42Mzg1OTcsMS41Nzk2NTcgLTEwLjQ0ODg4NywtMC41NDQ0NTggLTkuODE5OTAzLDQuMzYwMTEgMS44MTE4OTQsMC41NTM5MjggNy42MjA3MDgsLTIuMjA3NjA4IDYuMzA4NjU2LDEuMDQxODA2IC0yLjEzOTk5MSwxLjQ2Nzg0NyAtNy42NDcyMjgsLTAuMjMxMTY3IC02Ljk4Mzg5MywzLjQxNDc3OSAtMC44ODMzOTIsNC4zNTA0OTIgNC42NDQ5NDEsMy41NDY2NDcgNS4zMjQ3MzcsMC4zNTk0NzggMy45NjgyNTUsLTMuMzMyODk3IC0wLjI4MDE4MSw2LjM1ODc5NiAtMy42MjY5OTYsNS4wODEwMTMgLTMuNTEzMzMxLDAuMzA2MjggLTQuMzc4OTYyLC00LjE5MDkyNSAtMy42NjU1NzgsLTYuODg3NDM4IDAuNTQzMDA3LC0yLjM2MTA4MyAtMC42MDI1NzIsLTYuMjEyMDI4IDIuMTQxNDc2LC02Ljk2NDYwOCAyLjg5NTM4NCwtMS41ODU2NDYgOC4wMDU1NDcsLTIuMDU3Mjg3IDEwLjMyMTUwMSwtMC40MDUxNDYgeiIKICAgICAgIGlkPSJwYXRoNjIzNSIKICAgICAgIGlua3NjYXBlOmNvbm5lY3Rvci1jdXJ2YXR1cmU9IjAiIC8+CiAgICA8cGF0aAogICAgICAgc3R5bGU9ImZvbnQtc2l6ZToxOS43NTU1NTYxMXB4O3RleHQtYWxpZ246Y2VudGVyO3RleHQtYW5jaG9yOm1pZGRsZTtzdHJva2Utd2lkdGg6MC4yNjQ1ODMzMiIKICAgICAgIGQ9Im0gOTIuNDIwMDU1LDI2LjE5NjczOSBjIC0zLjM1NzI3OCw1LjAxMiAtNC4wNjg2NzMsLTUuODg0NjE1IC02LjE3MzYxMSwtMC4yMTIyMTcgLTIuODYxOTkzLDQuOTg1OTYyIC04LjA0MjA4NCwxLjAzMDcxMSAtNS45MDM1MTMsLTMuNDkxOTUgMC4wMDIzLC0zLjY0NTA3NiA0Ljg1OTgzNSwtNy4wNzYxNjkgMi4yNTcyMjcsLTEuMjczMzA1IC0xLjkyOTcyMSwyLjYyNzkyOCAwLjI0MjAzOSw2LjcxNzA2OSAyLjUwODAzNCwzLjM3NjIgMi42Mzg2NzQsLTEuMjU1MDQ0IDEuNDYxMjE0LC03LjEyMDc5OSA1LjA3MzkzNCwtNi4yODkzNjkgMC45NjQ2NDksMi43Nzg5ODYgLTAuNzc5ODQ0LDYuNjI4Njg5IDIuMjM3OTI5LDcuODkwNjQxIHoiCiAgICAgICBpZD0icGF0aDYyMzciCiAgICAgICBpbmtzY2FwZTpjb25uZWN0b3ItY3VydmF0dXJlPSIwIiAvPgogICAgPHBhdGgKICAgICAgIHN0eWxlPSJmb250LXNpemU6MTkuNzU1NTU2MTFweDt0ZXh0LWFsaWduOmNlbnRlcjt0ZXh0LWFuY2hvcjptaWRkbGU7c3Ryb2tlLXdpZHRoOjAuMjY0NTgzMzIiCiAgICAgICBkPSJtIDExNy43MzE4NiwyNS45NjUyMjkgYyAtMy4wNTMyOSwxLjk2NTcyNiAtNy44MDE4MiwxLjE4MzkwOCAtMTEuNDIxMTgsMi4zMTUxMDcgLTYuMTkwNDIsMi40NzI5MjQgLTguNTIzODA5LC00LjYzODA3IC0yLjEwMjg5LC02LjczMzA4OCA2LjI2MzI5LC00LjkyMzQwMiAtMy42NzM2LC00LjE2ODUwNiAtNi43MTM3OTMsLTIuMjU3MjE4IC0wLjA1NjU1LDIuOTc5Mzg2IC0xLjM1NzQwMSw3LjA5NzAzMiAxLjA2MTA4Niw5LjQxNDc1NiAtMi4xNDU4MDQsNC41NTMzNTYgLTQuMzk1MjMsLTQuMzM4MzUxIC0zLjIyMTg1MywtNi43NzE2NzggMC45Njg4MTUsLTMuNjMwNTY1IC0xLjI0MDY3LC0wLjk3MTk1NyAtMi42NjIzNjksLTEuOTQ4NTQyIC0wLjc0MDIzNywtMi4xNTQzNzIgMy45MjY1NjEsLTMuMTAyOTA3IDUuNTk0ODMzLC0zLjQ3MjY1NiAzLjE3OTk3NiwtMC4zMTkxODcgMTIuMDA4NjU2LC0zLjA1MzY1NiAxMC4zNjAwODYsMi43MjAyNDggLTAuMTAzNDEsMi41ODQyODIgLTEwLjAzMDE5NCw3LjMxOTU0MSAtMy43MDQxMSw3LjMxMTg2NCA0LjE5NjM1LC0wLjI3NTg3MSA4LjQ2MDEsLTEuNDA5MDI3IDEyLjU3ODc1LC0wLjgxMDI5IGwgMC4yMzE1MSwwLjIzMTUxIHoiCiAgICAgICBpZD0icGF0aDYyMzkiCiAgICAgICBpbmtzY2FwZTpjb25uZWN0b3ItY3VydmF0dXJlPSIwIiAvPgogICAgPHBhdGgKICAgICAgIHN0eWxlPSJmb250LXNpemU6MTkuNzU1NTU2MTFweDt0ZXh0LWFsaWduOmNlbnRlcjt0ZXh0LWFuY2hvcjptaWRkbGU7c3Ryb2tlLXdpZHRoOjAuMjY0NTgzMzIiCiAgICAgICBkPSJtIDEyNi42MDY0MywyNy45MTM3NzUgYyAtMS40MjI1MiwxLjU0MDg0MyAtNC42MzEwNiwxLjQyNzgxOCAtNS4yMDkxLC0xLjExODk2NCAtMS44MjA4MSwtMS4zMzY3NTMgLTQuODMxNTIsMC42MzAxNSAtNy4yNTM5OSwwLjE1NDMyNSAtMC41NTM1NSwxLjkwNTI5MyAtNS4xMjc5Miw1LjAwNDc0MyAtMy4zOTU1MSwxLjI1NDAxMyAxLjYxNjYsLTIuNTM2MTMgMy45NzUzNywtNS41MTU5ODcgNS4zNDQwMywtOC42ODE2NDMgMC40NTc1MSwtNC40NTI0NzMgNC41NjI0MSwtOC4wNzU2NTQgNS4wOTMyMSwtMS4yMTU0MjkgLTAuMDk4NiwzLjYxMzIzMyAyLjY4MzQ3LDYuMTk2MTQ0IDMuNTMwNjMsNy44MTM0ODEgLTMuNTE2NjYsMC43MTY4NjcgMS45NzUxMSwwLjgxMzE3NCAxLjg5MDczLDEuNzk0MjE3IHogbSAtNi4wMzg1NywtMy4wODY4MDYgYyAtMC44MjgwNiwtMy40MTMyNTYgLTEuNjQ5NTEsLTEwLjA0MjU3MyAtMy42MjY5OSwtMy4xNjM5NzggLTMuODM4NTIsNC42NjE3MjQgMS4xNDAxNiwzLjQ1MTIyMiAzLjYyNjk5LDMuMTYzOTc4IHoiCiAgICAgICBpZD0icGF0aDYyNDEiCiAgICAgICBpbmtzY2FwZTpjb25uZWN0b3ItY3VydmF0dXJlPSIwIiAvPgogICAgPHBhdGgKICAgICAgIHN0eWxlPSJmb250LXNpemU6MTkuNzU1NTU2MTFweDt0ZXh0LWFsaWduOmNlbnRlcjt0ZXh0LWFuY2hvcjptaWRkbGU7c3Ryb2tlLXdpZHRoOjAuMjY0NTgzMzIiCiAgICAgICBkPSJtIDEzNi45NjY1MiwyNC4zNjM5NDkgYyAtMC44MjM3NywxLjk3NzI3MSAtMy42ODcyNiwyLjc4NzI5OSAtNS42ODY0OSwzLjY0NjI5MSAtMi41NDI4MywxLjAyMjczOCAtNS4wNTk5LC0xLjMyMDU4OSAtNC4zOTY5MywtNC4wOTE3NDggMS44NTI4MSwtMi41NTM0NDYgLTEuODIxMTksLTcuNDkzODc5IDIuMDc2ODUsLTcuODMxMDQzIDIuNDk0OTMsMi40Nzc5MDMgLTAuODY0NTksNi41NTQzODIgMC41MDE0OSw5LjcwNDE0NSAyLjM0NTM3LDEuMTgwNjU1IDUuMjQxMzYsLTIuMTkzNzY5IDcuNTA1MDgsLTEuNDI3NjQ1IHoiCiAgICAgICBpZD0icGF0aDYyNDMiCiAgICAgICBpbmtzY2FwZTpjb25uZWN0b3ItY3VydmF0dXJlPSIwIiAvPgogICAgPHBhdGgKICAgICAgIHN0eWxlPSJmb250LXNpemU6MTkuNzU1NTU2MTFweDt0ZXh0LWFsaWduOmNlbnRlcjt0ZXh0LWFuY2hvcjptaWRkbGU7c3Ryb2tlLXdpZHRoOjAuMjY0NTgzMzIiCiAgICAgICBkPSJtIDE2MS43NTc0MywxMS40NzY1MzUgYyAtMS43OTMsMy4yMjUwODYgLTAuMjg0MDcsOS4zNzM2NTYgLTEuNDA4MzUsMTMuOTA5OTE2IC0wLjE3NjIyLDUuNjA2MTA5IC01LjcyNzk2LDMuOTM0MjU1IC03LjUyNDE2LDAuMjg5MzkxIC0xLjMyNCwtMS41NDg4OTkgLTMuODUzMDUsLTEwLjIwMTc4NSAtMy45NTUwMiwtNC4wMTI4NDcgLTAuNDExNzQsMy44Mzc2NzYgLTEuNDk0OTcsNy43NjE1NDMgLTEuMjM0OTEsMTEuNTU2MjI4IC0yLjE3NjU2LDIuMzY2NTQxIC0zLjI2NDYsLTIuNDAyMzc4IC0xLjQ0NzAyLC00LjMyMTUyNiAtMC4xMzEzMSwtMi41MzczMjQgMC44NTg5LC01LjU4NTIwOSAxLjIzNDgxLC04LjAwNjQwMiAxLjQzODM4LC0yLjk3NzM3MSAtMS42NzE3NiwtNy45NzA4MzMgMC4yNzAxMSwtOS45OTM1MjggMy4yOTQ0NCwxLjA5NjgyNiAyLjM0NjI5LDYuMzkxMDA3IDQuMzc5NDMsOC45OTAzMTYgMC45NjgyOSwxLjgyODg4NCA0LjA5MTQzLDkuMjgxMDg3IDYuMjcwMDcsNS44NDU2MzEgMC44MTcwNSwtMy42NzQ0MDEgMC44NTE2OCwtNi45NjQwMjcgMC45ODM5OCwtMTAuNzg0NTI4IDAuMzAzNDMsLTIuNDU4NDU0IC0wLjYzNDIyLC00Ljg1OTMzOCAtMS4wNDE4NCwtNy4wODAzNTggMi4wNjM4NSwtMC43MjEzODM5IDIuNTc2NzYsMi4zNjMgMy40NzI5LDMuNjA3NzA3IHoiCiAgICAgICBpZD0icGF0aDYyNDUiCiAgICAgICBpbmtzY2FwZTpjb25uZWN0b3ItY3VydmF0dXJlPSIwIiAvPgogICAgPHBhdGgKICAgICAgIHN0eWxlPSJmb250LXNpemU6MTkuNzU1NTU2MTFweDt0ZXh0LWFsaWduOmNlbnRlcjt0ZXh0LWFuY2hvcjptaWRkbGU7c3Ryb2tlLXdpZHRoOjAuMjY0NTgzMzIiCiAgICAgICBkPSJtIDE3NS41OTAxOCwxNy4wNTIwNzggYyAtMi42Mzg2LDEuNTc5NjU2IC0xMC40NDg4OSwtMC41NDQ0NTggLTkuODE5OTIsNC4zNjAxMSAxLjgxMTksMC41NTM5MiA3LjYyMDcsLTIuMjA3NiA2LjMwODY5LDEuMDQxODA2IC0yLjE0MDAxLDEuNDY3ODU2IC03LjY0NzI4LC0wLjIzMTE3NSAtNi45ODQwMSwzLjQxNDc3OSAtMC44ODM0Myw0LjM1MDUwOCA0LjY0NSwzLjU0NjY0MyA1LjMyNDc4LDAuMzU5NDc4IDMuOTY4MjUsLTMuMzMyODk2IC0wLjI4MDE5LDYuMzU4Nzk3IC0zLjYyNyw1LjA4MTAxMyAtMy41MTM0MSwwLjMwNjI2MSAtNC4zNzg5OCwtNC4xOTA5MjkgLTMuNjY1NiwtNi44ODc0MzggMC41NDMwNywtMi4zNjEwNyAtMC42MDI2NiwtNi4yMTIwMzYgMi4xNDE0OCwtNi45NjQ2MDggMi44OTU0MywtMS41ODU2NSA4LjAwNTQ3LC0yLjA1NzI4MSAxMC4zMjE1OCwtMC40MDUxNDYgeiIKICAgICAgIGlkPSJwYXRoNjI0NyIKICAgICAgIGlua3NjYXBlOmNvbm5lY3Rvci1jdXJ2YXR1cmU9IjAiIC8+CiAgICA8cGF0aAogICAgICAgc3R5bGU9ImZvbnQtc2l6ZToxOS43NTU1NTYxMXB4O3RleHQtYWxpZ246Y2VudGVyO3RleHQtYW5jaG9yOm1pZGRsZTtzdHJva2Utd2lkdGg6MC4yNjQ1ODMzMiIKICAgICAgIGQ9Im0gMTkxLjI3NTAxLDE2LjkxNzAzIGMgLTAuOTYyNjQsMy4zOTk3NjQgLTQuNzAzNTQsMS40Mjg5MDMgLTcuNDg1NjQsMi43MDA5NjMgLTQuOTA0NjMsLTEuNDc0OTI2IC0zLjAzNTI0LDMuMjkwNDY3IC0yLjcyMDMzLDYuMDc3MTQ0IDMuMjQ5ODYsLTEuMTQ0ODU0IDAuNTQ3OCw0LjU3ODA0IC0xLjUwNDgzLDIuNzAwOTU3IC0yLjgwOTI0LC0xLjY0NDk0MyAwLjgxODYxLC04LjczNjk2MyAtMy4wMjkwMSwtOC4xMjIxNSAtNC41Njk4OSwxLjQwNTY3MSAtMi44Mzg2NSwtMy4yMzg0NTQgMS4yMzQ3MSwtMi4yNzY1MTUgNC4yNTcyNiwtMC4zOTU2MiA4LjUyMDMyLC0wLjU3MDIwMyAxMi4yNzAwOCwtMi4wNDUwMSAwLjg1NjksLTAuMDEwMjYgMC4zMjAwOCwxLjI5NjMyIDEuMjM1MDIsMC45NjQ2MTEgeiIKICAgICAgIGlkPSJwYXRoNjI0OSIKICAgICAgIGlua3NjYXBlOmNvbm5lY3Rvci1jdXJ2YXR1cmU9IjAiIC8+CiAgICA8cGF0aAogICAgICAgc3R5bGU9ImZvbnQtc2l6ZToxOS43NTU1NTYxMXB4O3RleHQtYWxpZ246Y2VudGVyO3RleHQtYW5jaG9yOm1pZGRsZTtzdHJva2Utd2lkdGg6MC4yNjQ1ODMzMiIKICAgICAgIGQ9Im0gMTk4Ljc3OTgxLDI2Ljg5MTI3MSBjIDAuMTUwOTcsMy4zNDk4NDcgLTkuMDA1NSw1Ljg2Njg1OSAtNy40NjYyMiwxLjkyOTI1NiA1LjU1NjQ2LDEuMDExNjQxIDYuNjAzNzIsLTQuMDIzMTM5IDAuNzMzMTEsLTMuMTI1MzgxIC00LjkyNDA0LC0wLjEyODAwMyAtNS4xNDc0NywtNS4xMzUwNCAtMS43OTQxOCwtNy40NDY5MTEgMS4zNTE5NCwtMC45NTQyMDggNS4zMzUzLC00Ljc3NzU5NCA1LjQ3OTE1LC0xLjI1NDAyIC0xLjM4MjA0LDEuODE2NzI3IC02LjcxOTA0LDIuNzQyOTMgLTUuMjY2ODYsNS45NDIwOTggMi41MjI4NywxLjQ5ODQ4MyA3Ljc0MDIyLC0wLjI3NzM0NSA4LjMxNSwzLjk1NDk1OCB6IgogICAgICAgaWQ9InBhdGg2MjUxIgogICAgICAgaW5rc2NhcGU6Y29ubmVjdG9yLWN1cnZhdHVyZT0iMCIgLz4KICAgIDxwYXRoCiAgICAgICBzdHlsZT0iZm9udC1zaXplOjE5Ljc1NTU1NjExcHg7dGV4dC1hbGlnbjpjZW50ZXI7dGV4dC1hbmNob3I6bWlkZGxlO3N0cm9rZS13aWR0aDowLjI2NDU4MzMyIgogICAgICAgZD0ibSAzNi45ODI5NTQsNTkuODQyOTIxIGMgLTMuODM3OTA1LDAuMjc1MjQ5IC02Ljc5ODMzLC00LjAyMDAyNiAtNy4yOTI1NzUsLTcuNDg1NTA0IC0wLjE1ODQyOCwtNC41NTM5ODIgMS4wOTUyMTgsLTkuNzk5NzM2IDMuODgxMzM3LC0xMy4zNDkxNyAyLjAxMjM4MiwtMS42MTMzNzkgMy4wOTIxOTEsMS41MTE5OTMgMS4zMjc2NTcsMi40ODc0NyAtMi43NzE4MywzLjM0MTg2OCAtMy44ODEzOTgsOC44NzczOTMgLTIuMzUzNjc4LDEzLjAyMjQ2MSAwLjM3OTgyMiwyLjgzNzkwMSAzLjIwNTQ4LDMuMjk4NTU5IDQuNDM3MjU5LDUuMzI0NzQzIHoiCiAgICAgICBpZD0icGF0aDYyNTMiCiAgICAgICBpbmtzY2FwZTpjb25uZWN0b3ItY3VydmF0dXJlPSIwIiAvPgogICAgPHBhdGgKICAgICAgIHN0eWxlPSJmb250LXNpemU6MTkuNzU1NTU2MTFweDt0ZXh0LWFsaWduOmNlbnRlcjt0ZXh0LWFuY2hvcjptaWRkbGU7c3Ryb2tlLXdpZHRoOjAuMjY0NTgzMzIiCiAgICAgICBkPSJtIDUzLjU1NTI0Miw0MS41NTM1OTggYyAtMi4zMjg5MTEsMS44NjUzNDcgLTYuNTk2NTY4LDAuMTMyMzkzIC05LjQ1MzM0LDEuMjE1NDI0IC0zLjkyODMzOCwtMS4xMDM0MyAtNS43MjI4NTksOS4wNzMwODggLTEuMjU0MDExLDUuNjMzNDIxIDEuODY4NjA3LC0wLjQ3MjczNiAzLjgxMTk0MiwtMS4zNzk0MTUgNS42OTEyOTUsLTEuODkwNjY4IDcuMjY4OTE2LC0wLjAwNjIgLTMuODQ0NDg1LDIuNDM5ODQyIC01LjM2MzMyLDQuMDcwNzE4IC00LjU5Mjk1LDAuMjM4NjA4IC0wLjMxODEwOSw0LjUzNzM1MyAtMy44Nzc3OTQsNC43NDU5NjYgLTMuMzk3MjYzLC0yLjQ4NTc4MiAwLjA4NjQzLC03LjMzNzUyMiAtMS4zNjk3NzQsLTkuNjI2OTczIC0yLjQ3MzA5MiwtMS43MjM2NzYgMy4xMjE0MjUsLTQuMTAwOTc3IDUuMTEyNTE3LC00LjY0OTUwMyAzLjI1MDk5NSwtMC4yMjQ4MzUgOC4wNDk0MjUsLTIuMTM3NDU5IDEwLjUxNDQyNywwLjUwMTYxNSB6IgogICAgICAgaWQ9InBhdGg2MjU1IgogICAgICAgaW5rc2NhcGU6Y29ubmVjdG9yLWN1cnZhdHVyZT0iMCIgLz4KICAgIDxwYXRoCiAgICAgICBzdHlsZT0iZm9udC1zaXplOjE5Ljc1NTU1NjExcHg7dGV4dC1hbGlnbjpjZW50ZXI7dGV4dC1hbmNob3I6bWlkZGxlO3N0cm9rZS13aWR0aDowLjI2NDU4MzMyIgogICAgICAgZD0ibSA3Ny4wOTIxMzYsNTAuNjU5Njc0IGMgLTMuMDUzMjg2LDEuOTY1NzIyIC03LjgwMTgyNCwxLjE4Mzg5NiAtMTEuNDIxMTgxLDIuMzE1MDk4IC02LjE5MDQyMSwyLjQ3MjkyNiAtOC41MjM4MDksLTQuNjM4MDc2IC0yLjEwMjg4NiwtNi43MzMwODcgNi4yNjMyODYsLTQuOTIzNDAzIC0zLjY3MzU5OSwtNC4xNjg1MDggLTYuNzEzNzk3LC0yLjI1NzIxOSAtMC4wNTY1NSwyLjk3OTM4NiAtMS4zNTc0LDcuMDk3MDMyIDEuMDYxMDg2LDkuNDE0NzU3IC0yLjE0NTgwMyw0LjU1MzM1NSAtNC4zOTUyMzIsLTQuMzM4MzUxIC0zLjIyMTg1MywtNi43NzE2NzggMC45Njg4MTYsLTMuNjMwNTY3IC0xLjI0MDY3MiwtMC45NzE5NTUgLTIuNjYyMzcsLTEuOTQ4NTQxIC0wLjc0MDIzNywtMi4xNTQzNzIgMy45MjY1NjEsLTMuMTAyOTA3IDUuNTk0ODMzLC0zLjQ3MjY1NiAzLjE3OTk3OSwtMC4zMTkxODcgMTIuMDA4NjQ0LC0zLjA1MzY1NyAxMC4zNjAwOTIsMi43MjAyNTggLTAuMTAzNDA0LDIuNTg0MjcyIC0xMC4wMzAxNDMsNy4zMTk0OTUgLTMuNzA0MTczLDcuMzExODc0IDQuMTk2MzQ0LC0wLjI3NTg2OSA4LjQ2MDA5NSwtMS40MDkwMjkgMTIuNTc4NzM1LC0wLjgxMDI5IGwgMC4yMzE1MSwwLjIzMTUxIHoiCiAgICAgICBpZD0icGF0aDYyNTciCiAgICAgICBpbmtzY2FwZTpjb25uZWN0b3ItY3VydmF0dXJlPSIwIiAvPgogICAgPHBhdGgKICAgICAgIHN0eWxlPSJmb250LXNpemU6MTkuNzU1NTU2MTFweDt0ZXh0LWFsaWduOmNlbnRlcjt0ZXh0LWFuY2hvcjptaWRkbGU7c3Ryb2tlLXdpZHRoOjAuMjY0NTgzMzIiCiAgICAgICBkPSJtIDgzLjgyNTIzLDQyLjg0NjE5NyBjIC0wLjMzMDA5MSwzLjYyMTI3OSAtMS4yMTc0NzEsOC4yMDYzOTggLTUuMjY2ODU5LDkuMzc2MTY4IC0zLjgyMTEwMSwzLjQ4OTcyMSAtMTAuNDg1MjA2LC0xLjEyNTA4NyAtNi43NzE2OCwtNS43MTA1OTEgMS45NTg2MzYsLTIuOTAzNzcxIDQuODE3ODcsLTUuNDkxOTY5IDguNDMwODI5LC02LjQyNDQxNyAxLjg2ODc0MSwtMC4wODY4NSAyLjk4NTE0MiwxLjEyNTA0OCAzLjYwNzcxLDIuNzU4ODQgeiBtIC0xLjkyOTI1MywxLjAwMzIxMiBjIC0xLjkwNjAzMiwtMS43NTUzNzggLTMuOTk4NDc3LC0wLjg4NzY2OCAtNS45NDIwOTgsMS4wOTk2ODMgLTYuMTY4MTU1LDMuODAzOTY3IC0wLjAzNTcyLDkuMzk5NjM2IDMuOTkzNTUzLDQuMjA1NzcgMS4zNDU2OTgsLTEuNDM4NDA3IDEuNjgzNzIxLC0zLjQ1NDQ5MiAxLjk0ODU0NSwtNS4zMDU0NTMgeiIKICAgICAgIGlkPSJwYXRoNjI1OSIKICAgICAgIGlua3NjYXBlOmNvbm5lY3Rvci1jdXJ2YXR1cmU9IjAiIC8+CiAgICA8cGF0aAogICAgICAgc3R5bGU9ImZvbnQtc2l6ZToxOS43NTU1NTYxMXB4O3RleHQtYWxpZ246Y2VudGVyO3RleHQtYW5jaG9yOm1pZGRsZTtzdHJva2Utd2lkdGg6MC4yNjQ1ODMzMiIKICAgICAgIGQ9Im0gMTAzLjcxNTg0LDUxLjU4NTcxNiBjIC00LjE5MTY3LDUuNDU3MzQ1IC01LjY2ODkyMSwtNC4xOTAwMzkgLTQuMDMyMTY3LC03LjI1Mzk5NiAtMS43MjQxMzgsMi45ODQ2MzkgLTQuNTkwOTcsNi4yNzMzNzggLTguMzkyMjU0LDUuNzY4NDU4IC0yLjk3OTkwOCwtMS45NDAyNjUgLTMuMzQ0NDQ4LC04LjU0MTI2MiAtMy41NjkxMDksLTEuNjM5ODY2IC0xLjQ2MzAxMywyLjEwNzAwNCAxLjE0NDE3LDQuNTgyNjkgLTAuMjMxNDkyLDYuMDM4NTY3IC0zLjk5NTQwNywwLjc3NjI4MyAtMS43ODMzMzYsLTUuNzE3OTM5IC0xLjgzMjc4NCwtNy45MjkyMzcgLTAuNTc5NjM2LC0zLjQ1MDcxOCAzLjU5MzU1NSwtOS4yODM4NTUgNC42NDk0OTcsLTMuMzM3NjE1IC0wLjUxODk4NCw2Ljg2NzYzNiA3LjE4NDA0OCw0LjkwMjA4OCA4LjAwNjM5NywtMC42MjQ0MzkgMS4xNDEzMjksLTQuNjQzNzY1IDQuOTYxOTUyLC0wLjk1NTk1NCAzLjU2OTE0MiwyLjY4ODc0IC0wLjE5NTUyLDIuMzkwNDIzIC0yLjE3NzAwMiw2Ljc0NDYzOSAxLjgzMjc3LDYuMjg5Mzg4IHoiCiAgICAgICBpZD0icGF0aDYyNjEiCiAgICAgICBpbmtzY2FwZTpjb25uZWN0b3ItY3VydmF0dXJlPSIwIiAvPgogICAgPHBhdGgKICAgICAgIHN0eWxlPSJmb250LXNpemU6MTkuNzU1NTU2MTFweDt0ZXh0LWFsaWduOmNlbnRlcjt0ZXh0LWFuY2hvcjptaWRkbGU7c3Ryb2tlLXdpZHRoOjAuMjY0NTgzMzIiCiAgICAgICBkPSJtIDEyMi42NjExLDUxLjU4NTcxNiBjIDAuMTUwOTksMy4zNDk4NDUgLTkuMDA1NSw1Ljg2Njg1OSAtNy40NjYyMSwxLjkyOTI1NiA1LjU1NjQ3LDEuMDExNjM4IDYuNjAzNywtNC4wMjMxNDUgMC43MzMxLC0zLjEyNTM4MSAtNC45MjQwNCwtMC4xMjc5OTQgLTUuMTQ3NDgsLTUuMTM1MDQ5IC0xLjc5NDE4LC03LjQ0NjkxMSAxLjIzMTgzLC0xLjM3ODk1OCA2LjYxMTIsLTQuODIwMzU1IDUuMDkzMywtMC41OTgwNzMgLTEuODMzNDksMC43NTIwMDkgLTcuMTM1MTMsMy4yODczMjQgLTQuMzk4NzEsNS42MzM0MTcgMi42NDYzOCwwLjcxNDU0MSA3LjI5ODc1LC0wLjE5MjY2MiA3LjgzMjcsMy42MDc2OTIgeiIKICAgICAgIGlkPSJwYXRoNjI2MyIKICAgICAgIGlua3NjYXBlOmNvbm5lY3Rvci1jdXJ2YXR1cmU9IjAiIC8+CiAgICA8cGF0aAogICAgICAgc3R5bGU9ImZvbnQtc2l6ZToxOS43NTU1NTYxMXB4O3RleHQtYWxpZ246Y2VudGVyO3RleHQtYW5jaG9yOm1pZGRsZTtzdHJva2Utd2lkdGg6MC4yNjQ1ODMzMiIKICAgICAgIGQ9Im0gMTM4LjI2ODc3LDUwLjU0MzkxOSBjIC0xLjkyNjgyLDIuNzk2NTY5IC02LjE4ODM1LDEuODkwMTg1IC05LjIyMTg2LDIuMTgwMDQzIC0zLjk2MzAyLC0wLjE0OTQyMyAtNy4zOTE2NiwtNC42MjA1MzYgLTQuNzY1MjcsLTguMjc2NDk3IDIuNzI2NjMsLTIuNDk0ODY1IDcuMzM0MjQsLTQuNTcwNTI0IDEwLjg2MTc1LC0yLjQzMDg0NSAwLjgwNzEsNC4yNjA3NDggLTMuMDk2NzEsMS4yMjkzMDMgLTQuMzQwODIsMS4xMTg5NjUgLTIuODczMTIsMC4zMTE5NzkgLTYuOTc4MSwzLjMwODQgLTQuNTE0NTEsNi4yODkzNyAzLjExODkxLDMuMjM0NjU2IDcuOTk1NTgsMS43Nzk0NjkgMTEuOTgwNzEsMS4xMTg5NjQgeiIKICAgICAgIGlkPSJwYXRoNjI2NSIKICAgICAgIGlua3NjYXBlOmNvbm5lY3Rvci1jdXJ2YXR1cmU9IjAiIC8+CiAgICA8cGF0aAogICAgICAgc3R5bGU9ImZvbnQtc2l6ZToxOS43NTU1NTYxMXB4O3RleHQtYWxpZ246Y2VudGVyO3RleHQtYW5jaG9yOm1pZGRsZTtzdHJva2Utd2lkdGg6MC4yNjQ1ODMzMiIKICAgICAgIGQ9Im0gMTYyLjc4OTU4LDUwLjY1OTY3NCBjIC0zLjA1MzI5LDEuOTY1NzIxIC03LjgwMTgyLDEuMTgzODk1IC0xMS40MjExOCwyLjMxNTA5OCAtNi4xOTA0MiwyLjQ3MjkyNCAtOC41MjM4MiwtNC42MzgwNzIgLTIuMTAyODksLTYuNzMzMDg3IDYuMjYzMjgsLTQuOTIzNDA4IC0zLjY3MzU5LC00LjE2ODUwMyAtNi43MTM4MiwtMi4yNTcyMTkgLTAuMDU2NSwyLjk3OTI5NCAtMS4zNTc1Nyw3LjA5NzIyMiAxLjA2MTE5LDkuNDE0NzU3IC0yLjE0NTgzLDQuNTUzMzU0IC00LjM5NTIyLC00LjMzODM3NSAtMy4yMjE4NiwtNi43NzE2NzggMC45Njg4OCwtMy42MzA1ODYgLTEuMjQwNzMsLTAuOTcxOTQzIC0yLjY2MjQzLC0xLjk0ODU0MSAtMC43NDAyNiwtMi4xNTQzNzkgMy45MjY1NSwtMy4xMDI5MDUgNS41OTQ4MiwtMy40NzI2NTYgMy4xNzk5OCwtMC4zMTkxODUgMTIuMDA4NjQsLTMuMDUzNjU5IDEwLjM2MDA5LDIuNzIwMjU4IC0wLjEwMzQxLDIuNTg0Mjg5IC0xMC4wMzAyLDcuMzE5NTIyIC0zLjcwNDEyLDcuMzExODc0IDQuMTk2MzUsLTAuMjc1ODcgOC40NjAxMSwtMS40MDkwMjcgMTIuNTc4NzYsLTAuODEwMjkgbCAwLjIzMTUxLDAuMjMxNTEgeiIKICAgICAgIGlkPSJwYXRoNjI2NyIKICAgICAgIGlua3NjYXBlOmNvbm5lY3Rvci1jdXJ2YXR1cmU9IjAiIC8+CiAgICA8cGF0aAogICAgICAgc3R5bGU9ImZvbnQtc2l6ZToxOS43NTU1NTYxMXB4O3RleHQtYWxpZ246Y2VudGVyO3RleHQtYW5jaG9yOm1pZGRsZTtzdHJva2Utd2lkdGg6MC4yNjQ1ODMzMiIKICAgICAgIGQ9Im0gMTcxLjY2NDE1LDUyLjYwODIyIGMgLTEuNDIyNTIsMS41NDA4NDQgLTQuNjMxMDYsMS40Mjc4MTcgLTUuMjA5MSwtMS4xMTg5NjQgLTEuODIwODEsLTEuMzM2NzYxIC00LjgzMTUyLDAuNjMwMTY4IC03LjI1Mzk5LDAuMTU0MzM2IC0wLjU1MzU1LDEuOTA1MjkzIC01LjEyNzkyLDUuMDA0NzQzIC0zLjM5NTUxLDEuMjU0MDEzIDEuNDg0NjUsLTIuMjI3NzIgMy41NjQzNywtNS4wNTAxOTggNC45MzE3NiwtNy43Njg5NDEgMS4xNzgwNywtMi4yMTUyMjggMi41MDM5NiwtOS4zNTc2MSA0Ljg4ODEyLC00LjUzOTcwNyAwLjkwNDc5LDMuNDYwNjk2IDEuNDg0MDksOC43NDkyMDIgNC4yMjUxMyw5LjcwNDE0IC0yLjc0MjgzLDIuMTQ0ODkzIDAuNzU0NywwLjY5Mjk0NCAxLjgxMzU5LDIuMzE1MTIzIHogbSAtNi4wMzg1NywtMy4wODY4MDUgYyAtMC44MjgwNiwtMy40MTMyNTYgLTEuNjQ5NTEsLTEwLjA0MjU3NSAtMy42MjY5OSwtMy4xNjM5NzkgLTMuODM4NTIsNC42NjE3MDIgMS4xNDAxNywzLjQ1MTI1NSAzLjYyNjk5LDMuMTYzOTc5IHoiCiAgICAgICBpZD0icGF0aDYyNjkiCiAgICAgICBpbmtzY2FwZTpjb25uZWN0b3ItY3VydmF0dXJlPSIwIiAvPgogICAgPHBhdGgKICAgICAgIHN0eWxlPSJmb250LXNpemU6MTkuNzU1NTU2MTFweDt0ZXh0LWFsaWduOmNlbnRlcjt0ZXh0LWFuY2hvcjptaWRkbGU7c3Ryb2tlLXdpZHRoOjAuMjY0NTgzMzIiCiAgICAgICBkPSJtIDE4Ny4xMzY3Niw0MS42MTE0NzUgYyAtMC45NjI2NCwzLjM5OTc2NCAtNC43MDM1NCwxLjQyODkwMyAtNy40ODU2NCwyLjcwMDk2MyAtNC45MDQ2MSwtMS40NzQ5MzEgLTMuMDM1MjUsMy4yOTA0ODQgLTIuNzIwMzMsNi4wNzcxNDQgMy4yNDk4NiwtMS4xNDQ4NTQgMC41NDc4LDQuNTc4MDQgLTEuNTA0ODMsMi43MDA5NTcgLTIuODA5MjMsLTEuNjQ0OTQ3IDAuODE4NjIsLTguNzM2OTY0IC0zLjAyOSwtOC4xMjIxNSAtNC41Njk4OSwxLjQwNTY5MyAtMi44Mzg2NCwtMy4yMzg0NDQgMS4yMzQ3MSwtMi4yNzY1MTUgNC4yNTcyNywtMC4zOTU2MTkgOC41MjAzMSwtMC41NzAyMDUgMTIuMjcwMDksLTIuMDQ1MDExIDAuODU2ODksLTAuMDEwMjUgMC4zMjAwNywxLjI5NjMxMSAxLjIzNSwwLjk2NDYxMiB6IgogICAgICAgaWQ9InBhdGg2MjcxIgogICAgICAgaW5rc2NhcGU6Y29ubmVjdG9yLWN1cnZhdHVyZT0iMCIgLz4KICAgIDxwYXRoCiAgICAgICBzdHlsZT0iZm9udC1zaXplOjE5Ljc1NTU1NjExcHg7dGV4dC1hbGlnbjpjZW50ZXI7dGV4dC1hbmNob3I6bWlkZGxlO3N0cm9rZS13aWR0aDowLjI2NDU4MzMyIgogICAgICAgZD0ibSAxOTguOTA1Miw1MC41NDM5MTkgYyAtMS45MjY4NCwyLjc5NjU3IC02LjE4ODM1LDEuODkwMTg0IC05LjIyMTg3LDIuMTgwMDQzIC0zLjk2MzAyLC0wLjE0OTQyMiAtNy4zOTE2NiwtNC42MjA1MzcgLTQuNzY1MjcsLTguMjc2NDk3IDIuNzI2NjMsLTIuNDk0ODY3IDcuMzM0MjQsLTQuNTcwNTI0IDEwLjg2MTc1LC0yLjQzMDg0NSAwLjgwNzA4LDQuMjYwNzU1IC0zLjA5NjcsMS4yMjkyOTcgLTQuMzQwODIsMS4xMTg5NjUgLTIuODczMTMsMC4zMTE5NzUgLTYuOTc4MSwzLjMwODQwNiAtNC41MTQ1MSw2LjI4OTM3IDMuMTE4OTIsMy4yMzQ2NTIgNy45OTU1OCwxLjc3OTQ3MiAxMS45ODA3MiwxLjExODk2NCB6IgogICAgICAgaWQ9InBhdGg2MjczIgogICAgICAgaW5rc2NhcGU6Y29ubmVjdG9yLWN1cnZhdHVyZT0iMCIgLz4KICAgIDxwYXRoCiAgICAgICBzdHlsZT0iZm9udC1zaXplOjE5Ljc1NTU1NjExcHg7dGV4dC1hbGlnbjpjZW50ZXI7dGV4dC1hbmNob3I6bWlkZGxlO3N0cm9rZS13aWR0aDowLjI2NDU4MzMyIgogICAgICAgZD0ibSAyMTAuNzg5NCw0NS4wMDY5NjEgYyAtMi4zNTA3MiwxLjUxMjU2NSAtMS4zMTM2OSw0Ljg2MDUyMSAtMC44ODc1NCw3LjMzMTE2MiAtMC4wMTU2LDMuOTk1NjIxIC0yLjkxODc4LDEuMjM5MjQ3IC0yLjQ2OTU0LC0xLjcxNzAyMSAxLjE3OTM0LC00LjY3MTc1MiAtMy4xMjk0MiwtNS44OTI0NTMgLTUuNDU5OCwtMi4xMjIxNzkgLTAuMzkwNTcsMi40OTczOTggMi45MTcyLDYuNzE2MTQ5IC0xLjIzNDcyLDQuNDk1MTYxIC0xLjI3Mjc2LC0yLjY2NDQ1NSAtMC4wNTM1LC02LjI4NDIwNyAtMy44MDA2NCwtMy45MzU2NzYgLTEuODkyNDQsLTIuNzkxNDU2IDYuMDcyNTYsLTIuMzc3MDk4IDMuNjUxMTIsLTYuNzkwOTc0IC0wLjk2NjQ5LC00Ljg4NzI0MSAzLjE1MjA1LC0yLjIwNjQxOCAxLjg2NjU5LDEuMjkyNTk3IC0wLjA2MjUsMy44MTkxNSA3LjI3NTg2LDAuMzUwMTIgNC40NzU4MywtMy41NDk4MjYgMS45NzA0NywtMy44OTQ4ODcgMS44MTQ4OSw0LjA3ODcyOSAzLjQ1MzM2LDQuNDc1ODcxIGwgMC40MDUxNCwwLjUyMDg5OCB6IgogICAgICAgaWQ9InBhdGg2Mjc1IgogICAgICAgaW5rc2NhcGU6Y29ubmVjdG9yLWN1cnZhdHVyZT0iMCIgLz4KICAgIDxwYXRoCiAgICAgICBzdHlsZT0iZm9udC1zaXplOjE5Ljc1NTU1NjExcHg7dGV4dC1hbGlnbjpjZW50ZXI7dGV4dC1hbmNob3I6bWlkZGxlO3N0cm9rZS13aWR0aDowLjI2NDU4MzMyIgogICAgICAgZD0ibSAyMTguNjAyODksNTAuMjkzMTE2IGMgLTAuMDY2NSw0LjA3ODE0MyAtMi4yNzE3OCw3LjczMzczNCAtNC44OTA2NCwxMC40OTUxMzYgLTMuNDE3NjQsLTAuNDIzOTMzIDEuMzEwMDMsLTMuODgwNDE0IDEuNDM3MzUsLTUuODY0OTMxIDIuNDE1NjMsLTQuMzE2NzE4IDEuMTM0MzQsLTkuMzA0MjkzIC0xLjAwMzMyLC0xMy40Mjc2MDEgLTMuMTg1NDUsLTMuNDg1NzQxIDEuNjcxNjcsLTIuNDI5Mjk5IDIuNTI3MzUsMC43NzE3MDQgMS4wMjQ0NSwyLjU2ODY0NyAyLjAxNjg3LDUuMjA4MzU3IDEuOTI5MjYsOC4wMjU2OTIgeiIKICAgICAgIGlkPSJwYXRoNjI3NyIKICAgICAgIGlua3NjYXBlOmNvbm5lY3Rvci1jdXJ2YXR1cmU9IjAiIC8+CiAgPC9nPgo8L3N2Zz4K"
     ]
    }
   },
   "cell_type": "markdown",
   "metadata": {},
   "source": [
    "![scratch.svg](attachment:scratch.svg)\n",
    "\n",
    "<div style=\"text-align:right;font-size:0.7em;\">scratch.svg</div>"
   ]
  },
  {
   "cell_type": "markdown",
   "metadata": {},
   "source": [
    "This was a lot of mathematics but not too much code.\n",
    "Are ANN libraries actually big, in term of lines of code?\n",
    "To be fair, yes, several libraries have dozens of JVPs and lost of optimizations.\n",
    "Yet, a full minimal implementation of an ANN library does not need to be big.\n",
    "\n",
    "We will try a minimal working (buggy) product that can train an ANN."
   ]
  },
  {
   "cell_type": "code",
   "execution_count": 1,
   "metadata": {},
   "outputs": [
    {
     "name": "stdout",
     "output_type": "stream",
     "text": [
      "(3278, 8) (3278,)\n"
     ]
    }
   ],
   "source": [
    "import pandas as pd\n",
    "df = pd.read_csv('./pulsars_tuned.csv')\n",
    "X, y = df.values[:, :-1], df['label'].values\n",
    "print(X.shape, y.shape)"
   ]
  },
  {
   "cell_type": "markdown",
   "metadata": {},
   "source": [
    "Just need to transform the data as previously."
   ]
  },
  {
   "cell_type": "code",
   "execution_count": 2,
   "metadata": {},
   "outputs": [
    {
     "name": "stdout",
     "output_type": "stream",
     "text": [
      "(3278, 2)\n"
     ]
    }
   ],
   "source": [
    "import numpy as np\n",
    "y = np.c_[y == 0, y == 1].astype(np.float)\n",
    "print(y.shape)"
   ]
  },
  {
   "cell_type": "markdown",
   "metadata": {},
   "source": [
    "And import what we will need.\n",
    "\n",
    "In order to avoid implementing our own list inspection\n",
    "(`autograd` inspects a list if it is differentiating that argument)\n",
    "we will use the `inspect` package and differentiate against all arguments."
   ]
  },
  {
   "cell_type": "code",
   "execution_count": 3,
   "metadata": {},
   "outputs": [],
   "source": [
    "import inspect\n",
    "from functools import wraps\n",
    "import operator as op"
   ]
  },
  {
   "cell_type": "markdown",
   "metadata": {},
   "source": [
    "Just like `autograd` and `pytorch` we will build our own wrapper on `numpy`.\n",
    "This can be a very thin wrapper, we only need two things from it:\n",
    "\n",
    "1. As we perform operations using our `numpy` wrapper a graph is built.\n",
    "2. The array must be aware of the fact that it is an array node."
   ]
  },
  {
   "cell_type": "code",
   "execution_count": 4,
   "metadata": {},
   "outputs": [],
   "source": [
    "# class Node (follows)\n",
    "\n",
    "def drop_wrapper(*args):\n",
    "    return [a.val if isinstance(a, Node) else a for a in args]\n",
    "\n",
    "node_functions = [\n",
    "    np.mean,\n",
    "    np.log,\n",
    "    np.tanh,\n",
    "]\n",
    "\n",
    "\n",
    "class NumpyWrap(object):\n",
    "\n",
    "    def __getattr__(self, key):\n",
    "        fn = getattr(np, key)\n",
    "        @wraps(fn)\n",
    "        def np_fn_wrapper(*args, **kwargs):\n",
    "            fn_args = drop_wrapper(*args)\n",
    "            fn_values = drop_wrapper(*kwargs.values())\n",
    "            kwargs = dict(zip(kwargs.keys(), fn_values))\n",
    "            ret = fn(*fn_args, **kwargs)\n",
    "            if fn in node_functions:\n",
    "                return Node(ret, fn, list(args))\n",
    "            return ret\n",
    "        return np_fn_wrapper\n",
    "\n",
    "    def array(self, *args, **kwargs):\n",
    "        \"\"\"Avoid numpy bug https://github.com/numpy/numpy/issues/9028\"\"\"\n",
    "        return Node(*args, **kwargs)\n",
    "\n",
    "\n",
    "npg = NumpyWrap()"
   ]
  },
  {
   "cell_type": "markdown",
   "metadata": {},
   "source": [
    "Next we need the graph nodes, these require:\n",
    "\n",
    "1. An increasing ID, so we know the order in which the operations have been performed.\n",
    "2. A way of keeping their position in the graph, by keeping a link to the parents.\n",
    "3. Knowledge of what operation resulted in this graph node, so we can find the right JVP.\n",
    "4. The transpose operation, it is needed for the matrix multiplication JVP.\n",
    "5. Operator overload of all operations we may use, so we build the graph nodes as we go.\n",
    "6. Some extras for debugging such as shape or graphviz output."
   ]
  },
  {
   "cell_type": "code",
   "execution_count": 5,
   "metadata": {},
   "outputs": [],
   "source": [
    "class Node(object):\n",
    "    _max_id = 0\n",
    "\n",
    "    def __new__(cls, val, func=None, parents=None, *args, **kwargs):\n",
    "        if isinstance(val, Node):\n",
    "            return val\n",
    "        obj = super(Node, cls).__new__(cls)\n",
    "        kwargs['dtype'] = np.float64\n",
    "        obj.val = np.array(val, **kwargs)\n",
    "        obj.func = func\n",
    "        obj.func_name = None\n",
    "        if func:\n",
    "            obj.func_name = func.__name__\n",
    "        if not parents:\n",
    "            parents = []\n",
    "        obj.parents = [Node(x) for x in parents]\n",
    "        obj.grads = None\n",
    "        Node._max_id += 1\n",
    "        obj.id = Node._max_id\n",
    "        return obj\n",
    "\n",
    "    def add_grad(self, grad):\n",
    "        if not self.grads:\n",
    "            self.grads = Node(npg.zeros_like(self))\n",
    "        self.grads = self.grads + grad\n",
    "\n",
    "    def __eq__(self, other):\n",
    "        if not isinstance(other, Node) and not isinstance(other, np.ndarray):\n",
    "            return False\n",
    "        return npg.allclose(self, other)\n",
    "\n",
    "    def __str__(self):\n",
    "        return str(self.val)\n",
    "\n",
    "    def __repr__(self):\n",
    "        return repr(self.val)\n",
    "\n",
    "    def graph_str(self):\n",
    "        form = ['N {}'.format(self.id),\n",
    "                'Value:',\n",
    "                str(self.val),\n",
    "                'Fn: {}'.format(self.func_name),\n",
    "                'Grads:']\n",
    "        if self.grads:\n",
    "            form.append(str(self.grads))\n",
    "        form.append( 'Parents:')\n",
    "        for p in self.parents:\n",
    "            form.append(str(p.val))\n",
    "        return '\\n'.join(form)\n",
    "\n",
    "    def graphviz(self, graph):\n",
    "        for p in self.parents:\n",
    "            graph.append(f'    {p.id} -> {self.id}')\n",
    "            p.graphviz(graph)\n",
    "        label = self.graph_str().replace('\\n', '\\\\n')\n",
    "        graph.append(f'    {self.id} [label=\"{label}\"]')\n",
    "\n",
    "    def digraph(self):\n",
    "        graph = ['digraph nodes {']\n",
    "        self.graphviz(graph)\n",
    "        graph.append('}')\n",
    "        return '\\n'.join(graph)\n",
    "\n",
    "    def __add__(self, other):\n",
    "        o = Node(other)\n",
    "        return Node(self.val + o.val, op.add, [self, o])\n",
    "\n",
    "    def __radd__(self, other):\n",
    "        o = Node(other)\n",
    "        return Node(o.val + self.val, op.add, [o, self])\n",
    "\n",
    "    def __sub__(self, other):\n",
    "        o = Node(other)\n",
    "        return Node(self.val - o.val, op.sub, [self, o])\n",
    "\n",
    "    def __rsub__(self, other):\n",
    "        o = Node(other)\n",
    "        return Node(o.val - self.val, op.sub, [o, self])\n",
    "\n",
    "    def __neg__(self):\n",
    "        return Node(-self.val, op.neg, [self])\n",
    "\n",
    "    def __mul__(self, other):\n",
    "        o = Node(other)\n",
    "        return Node(self.val * o.val, op.mul, [self, o])\n",
    "\n",
    "    def __rmul__(self, other):\n",
    "        o = Node(other)\n",
    "        return Node(o.val * self.val, op.mul, [o, self])\n",
    "\n",
    "    def __truediv__(self, other):\n",
    "        o = Node(other)\n",
    "        return Node(self.val / o.val, op.truediv, [self, o])\n",
    "\n",
    "    def __rtruediv__(self, other):\n",
    "        o = Node(other)\n",
    "        return Node(o.val / self.val, op.truediv, [o, self])\n",
    "\n",
    "    def __pow__(self, other):\n",
    "        o = Node(other)\n",
    "        return Node(self.val ** o.val, op.pow, [self, o])\n",
    "\n",
    "    def __rpow__(self, other):\n",
    "        o = Node(other)\n",
    "        return Node(o.val ** self.val, op.pow, [o, self])\n",
    "\n",
    "    def __matmul__(self, other):\n",
    "        o = Node(other)\n",
    "        return Node(self.val @ o.val, op.matmul, [self, o])\n",
    "\n",
    "    def __rmatmul__(self, other):\n",
    "        o = Node(other)\n",
    "        return Node(o.val @ self.val, op.matmul, [o, self])\n",
    "\n",
    "    @property\n",
    "    def T(self):\n",
    "        return Node(self.val.T, np.transpose, [self])\n",
    "\n",
    "    @property\n",
    "    def shape(self):\n",
    "        return self.val.shape"
   ]
  },
  {
   "cell_type": "markdown",
   "metadata": {},
   "source": [
    "Once we have a graph built we just need something to walk it backwards\n",
    "and apply the JVPs throughout the nodes.\n",
    "\n",
    "We use `inspect` to figure out how many arguments a function passed\n",
    "to `do_grad` has."
   ]
  },
  {
   "cell_type": "code",
   "execution_count": 6,
   "metadata": {},
   "outputs": [],
   "source": [
    "def walk_nodes(n):\n",
    "    graph = [(n.id, n)]\n",
    "    for p in n.parents:\n",
    "        graph += walk_nodes(p)\n",
    "    return list(dict(graph).items())\n",
    "\n",
    "\n",
    "def do_grad(f, argnums=0, keepgraph=False):\n",
    "    if 'all' == argnums:\n",
    "        spec = inspect.getfullargspec(f)\n",
    "        argnums = list(range(len(spec.args)))\n",
    "    if isinstance(argnums, int):\n",
    "        argnums = [argnums]\n",
    "    @wraps(f)\n",
    "    def grad_func(*args, **kwargs):\n",
    "        wrt = {}\n",
    "        args = list(args)\n",
    "        for i in argnums:\n",
    "            wrt[i] = args[i] = Node(args[i])\n",
    "        ret = f(*args, **kwargs)\n",
    "        # initial gradient (currently a hack, should implement ones_like)\n",
    "        ret.add_grad(Node(npg.ones_like(ret.val, dtype=np.float64)))\n",
    "        nodes = sorted(walk_nodes(ret), key=lambda x: x[0], reverse=True)\n",
    "        for n_id, n in nodes:\n",
    "            if n.func:\n",
    "                vjp = vjps[n.func]\n",
    "                vjp(n, n.parents)\n",
    "        grads = [wrt[x].grads for x in argnums]\n",
    "        if len(grads) == 1:\n",
    "            grads = grads[0]\n",
    "        if keepgraph:\n",
    "            return grads, ret\n",
    "        else:\n",
    "            # zero the grads, in case node-arrays exist in the loss\n",
    "            for _, n in nodes:\n",
    "                n.grads = []\n",
    "        return grads\n",
    "    return grad_func"
   ]
  },
  {
   "cell_type": "markdown",
   "metadata": {},
   "source": [
    "And the JVPs themselves.\n",
    "\n",
    "For each operation we may want to differentiate we need a JVP.\n",
    "JVPs are sometimes tricky to build.\n",
    "In other words, JVPs are very short pieces of code but may\n",
    "take one's sleep to get them right."
   ]
  },
  {
   "cell_type": "code",
   "execution_count": 7,
   "metadata": {},
   "outputs": [],
   "source": [
    "vjps = {}\n",
    "\n",
    "\n",
    "def vjp_add(node, parents):\n",
    "    grad = npg.sum(node.grads)\n",
    "    for p in parents:\n",
    "        p.add_grad(node.grads)\n",
    "vjps[op.add] = vjp_add\n",
    "\n",
    "\n",
    "def vjp_sub(node, parents):\n",
    "    grad = npg.sum(node.grads)\n",
    "    l, r = parents\n",
    "    l.add_grad(node.grads)\n",
    "    r.add_grad(-node.grads)\n",
    "vjps[op.sub] = vjp_sub\n",
    "\n",
    "\n",
    "def vjp_neg(node, parents):\n",
    "    grad = npg.sum(node.grads)\n",
    "    parents[0].add_grad(-node.grads)\n",
    "vjps[op.neg] = vjp_neg\n",
    "\n",
    "\n",
    "def vjp_truediv(node, parents):\n",
    "    grad = npg.sum(node.grads)\n",
    "    l, r = parents\n",
    "    l.add_grad(node.grads / r.val)\n",
    "    r.add_grad(-1 / node.grads**2)\n",
    "vjps[op.truediv] = vjp_truediv\n",
    "\n",
    "\n",
    "def vjp_pow(node, parents):\n",
    "    grad = npg.sum(node.grads)\n",
    "    l, r = parents\n",
    "    l.add_grad(node.grads * r.val * l.val**(r.val - 1))\n",
    "    # log(-x) would give us a complex number,\n",
    "    # instead we support even powers or positive bases only\n",
    "    r.add_grad(node.grads * np.log(npg.abs(l.val)) * l.val**r.val)\n",
    "vjps[op.pow] = vjp_pow\n",
    "\n",
    "\n",
    "def vjp_matmul(node, parents):\n",
    "    grad = npg.sum(node.grads)\n",
    "    l, r = parents\n",
    "    #l.add_grad(grad * r.val.T)\n",
    "    l.add_grad(node.grads @ r.T)\n",
    "    #r.grads.append((grad.T @ l.val).T)\n",
    "    r.add_grad(l.T @ node.grads)\n",
    "vjps[op.matmul] = vjp_matmul\n",
    "\n",
    "\n",
    "def vjp_mean(node, parents):\n",
    "    grad = npg.sum(node.grads)\n",
    "    p = parents[0]\n",
    "    p.add_grad(node.grads / npg.full(p.val.shape, p.val.size / node.val.size))\n",
    "vjps[np.mean] = vjp_mean\n",
    "\n",
    "\n",
    "def vjp_tanh(node, parents):\n",
    "    grad = npg.sum(node.grads)\n",
    "    p = parents[0]\n",
    "    p.add_grad(node.grads * 1 - npg.tanh(npg.tanh(p.val)))\n",
    "vjps[np.tanh] = vjp_tanh\n",
    "\n",
    "\n",
    "def vjp_transpose(node, parents):\n",
    "    grad = npg.sum(node.grads)\n",
    "    p = parents[0]\n",
    "    p.add_grad(node.grads.T)\n",
    "vjps[np.transpose] = vjp_transpose"
   ]
  },
  {
   "cell_type": "markdown",
   "metadata": {},
   "source": [
    "And that's it!  The code above is enough to build and train an ANN.\n",
    "Note that we did not use either `pytorch` or `autograd` above.\n",
    "\n",
    "Next we will just build something similar to what we did with `autograd`\n",
    "and execute and train a small ANN."
   ]
  },
  {
   "cell_type": "code",
   "execution_count": 8,
   "metadata": {},
   "outputs": [],
   "source": [
    "def net_exec(l1, b1, l2, b2, l3, b3, X):\n",
    "    W = [l1, l2, l3]\n",
    "    Wb = [b1, b2, b3]\n",
    "    y_hat = X.T\n",
    "    for w, b in zip(W, Wb):\n",
    "        y_hat = npg.tanh(w @ y_hat + b)\n",
    "    return y_hat.T\n",
    "\n",
    "\n",
    "def netMSE(l1, b1, l2, b2, l3, b3, X, y):\n",
    "    y_hat = net_exec(l1, b1, l2, b2, l3, b3, X)\n",
    "    return np.mean(((y_hat - y)**2))\n",
    "\n",
    "\n",
    "netMSE_grad = do_grad(netMSE, argnums='all')"
   ]
  },
  {
   "cell_type": "markdown",
   "metadata": {},
   "source": [
    "That should run an ANN, and get its gradients.\n",
    "Time to generate an ANN."
   ]
  },
  {
   "cell_type": "code",
   "execution_count": 9,
   "metadata": {},
   "outputs": [
    {
     "name": "stdout",
     "output_type": "stream",
     "text": [
      "(25, 8) (25, 1) (10, 25) (10, 1) (2, 10) (2, 1)\n"
     ]
    }
   ],
   "source": [
    "def layers(neurons):\n",
    "    weights = []\n",
    "    for nl, nr in zip(neurons, neurons[1:]):\n",
    "        weights.append(Node(npg.random.normal(0, 1/npg.sqrt(nr+nl), (nr, nl))))\n",
    "        weights.append(Node(npg.random.normal(0, 1/npg.sqrt(nr+nl), (nr, 1))))\n",
    "    return weights\n",
    "\n",
    "\n",
    "l1, b1, l2, b2, l3, b3 = layers([8, 25, 10, 2])\n",
    "print(l1.shape, b1.shape, l2.shape, b2.shape, l3.shape, b3.shape)"
   ]
  },
  {
   "cell_type": "markdown",
   "metadata": {},
   "source": [
    "First let's see if our ANN does not blow up."
   ]
  },
  {
   "cell_type": "code",
   "execution_count": 10,
   "metadata": {},
   "outputs": [
    {
     "name": "stdout",
     "output_type": "stream",
     "text": [
      "[[ 0.00169501 -0.04085595]\n",
      " [-0.73685352  0.2662274 ]\n",
      " [-0.61084144  0.39672799]\n",
      " ...\n",
      " [ 0.42612149 -0.14190078]\n",
      " [-0.05999345  0.04135883]\n",
      " [-0.72195061  0.28300735]]\n"
     ]
    }
   ],
   "source": [
    "print(net_exec(l1, b1, l2, b2, l3, b3, X))"
   ]
  },
  {
   "cell_type": "markdown",
   "metadata": {},
   "source": [
    "Good, the ANN works, we can build the gradient evaluator.\n",
    "\n",
    "Since we are differentiating against every argument we will need to write all of them.\n",
    "This would be easy to add some syntactic sugar on top but we will keep things simple.\n",
    "Now, the bias terms are broadcasted during the ANN execution.\n",
    "Yet, that also means that their gradients have a broadcasted format.\n",
    "We will need to aggregate them back."
   ]
  },
  {
   "cell_type": "code",
   "execution_count": 11,
   "metadata": {},
   "outputs": [
    {
     "name": "stdout",
     "output_type": "stream",
     "text": [
      "(25, 8) (25, 1) (10, 25) (10, 1) (2, 10) (2, 1)\n"
     ]
    }
   ],
   "source": [
    "l1g, b1g, l2g, b2g, l3g, b3g, Xg, yg = netMSE_grad(l1, b1, l2, b2, l3, b3, X, y)\n",
    "b1g = npg.sum(b1g, axis=1)[:, np.newaxis]\n",
    "b2g = npg.sum(b2g, axis=1)[:, np.newaxis]\n",
    "b3g = npg.sum(b3g, axis=1)[:, np.newaxis]\n",
    "print(l1g.shape, b1g.shape, l2g.shape, b2g.shape, l3g.shape, b3g.shape)"
   ]
  },
  {
   "cell_type": "markdown",
   "metadata": {},
   "source": [
    "There are still a handful of bugs in the code above,\n",
    "notably the decisions about when to use our graph based `numpy` wrapper\n",
    "and when to use plain `numpy` are not well polished yet.\n",
    "This means that the code below is not very well optimized\n",
    "and may result in quite a high memory usage to keep the graphs.\n",
    "\n",
    "That said, it should be enough to train the ANN at hand."
   ]
  },
  {
   "cell_type": "code",
   "execution_count": 12,
   "metadata": {},
   "outputs": [
    {
     "name": "stderr",
     "output_type": "stream",
     "text": [
      "/home/grochmal/anaconda3/lib/python3.7/site-packages/ipykernel_launcher.py:39: RuntimeWarning: divide by zero encountered in log\n",
      "/home/grochmal/anaconda3/lib/python3.7/site-packages/ipykernel_launcher.py:85: RuntimeWarning: invalid value encountered in multiply\n"
     ]
    },
    {
     "name": "stdout",
     "output_type": "stream",
     "text": [
      "7.412255729886451e-12\n",
      "0.13689817240517962\n",
      "0.06241615721135874\n",
      "0.002149219034025239\n",
      "0.004899996619739444\n",
      "3.880736005494303e-11\n",
      "0.052894994260030574\n",
      "0.0014191994010394834\n",
      "0.021268060862543087\n",
      "0.0048914141911825335\n",
      "1.0929177878328146e-09\n",
      "0.08958589488746166\n",
      "0.009997062117765432\n",
      "0.10239715203196285\n",
      "0.08999982994497342\n",
      "0.028724729671944272\n",
      "4.813469634255193e-05\n",
      "0.13676038838447618\n",
      "0.016888634301367087\n",
      "0.048396510451469234\n"
     ]
    }
   ],
   "source": [
    "netMSE_grad = do_grad(netMSE, argnums='all', keepgraph=True)\n",
    "\n",
    "l1, b1, l2, b2, l3, b3 = layers([8, 25, 10, 2])\n",
    "learning_rate = 0.01\n",
    "batch = 200\n",
    "for i in range(1000):\n",
    "    idx = np.random.randint(0, len(y), batch)\n",
    "    X_sample, y_sample = X[idx], y[idx]\n",
    "    grads, ret = netMSE_grad(l1, b1, l2, b2, l3, b3, X_sample, y_sample)\n",
    "    l1g, b1g, l2g, b2g, l3g, b3g, Xg, yg = drop_wrapper(*grads)\n",
    "    b1g = np.sum(b1g, axis=1)[:, np.newaxis]\n",
    "    b2g = np.sum(b2g, axis=1)[:, np.newaxis]\n",
    "    b3g = np.sum(b3g, axis=1)[:, np.newaxis]\n",
    "    weights = [l1, b1, l2, b2, l3, b3]\n",
    "    grads = [l1g, b1g, l2g, b2g, l3g, b3g]\n",
    "    for j in range(len(weights)):\n",
    "        weights[j] = weights[j] - grads[j]*learning_rate\n",
    "        weights[j].grads = None\n",
    "    if (i+1)%50 == 0:\n",
    "        print(np.mean(ret.val - y_sample)**2)\n",
    "    l1, b1, l2, b2, l3, b3 = [Node(x.val) for x in weights]\n",
    "    del ret"
   ]
  },
  {
   "cell_type": "markdown",
   "metadata": {},
   "source": [
    "Let's do a quick check whether we identified any pulsars."
   ]
  },
  {
   "cell_type": "code",
   "execution_count": 13,
   "metadata": {},
   "outputs": [
    {
     "name": "stdout",
     "output_type": "stream",
     "text": [
      "1554\n"
     ]
    }
   ],
   "source": [
    "y_hat = npg.argmax(net_exec(l1, b1, l2, b2, l3, b3, X), axis=1)\n",
    "print(sum(y_hat))"
   ]
  },
  {
   "cell_type": "markdown",
   "metadata": {},
   "source": [
    "And finally see the performance of our ANN from scratch."
   ]
  },
  {
   "cell_type": "code",
   "execution_count": 14,
   "metadata": {},
   "outputs": [
    {
     "name": "stdout",
     "output_type": "stream",
     "text": [
      "0.8505186089078707\n",
      "0.9023794996949359\n",
      "0.8764490543014033\n"
     ]
    }
   ],
   "source": [
    "y_hat = npg.argmax(net_exec(l1, b1, l2, b2, l3, b3, X), axis=1)\n",
    "y_true = df['label'].values\n",
    "print(sum(y_hat[y_true == 1] == y_true[y_true == 1])/sum(y_true == 1))\n",
    "print(sum(y_hat[y_true == 0] == y_true[y_true == 0])/sum(y_true == 0))\n",
    "print(sum(y_hat == y_true)/len(y_true))"
   ]
  },
  {
   "cell_type": "markdown",
   "metadata": {},
   "source": [
    "In summary, the code needed to build an ANN is not very extensive.\n",
    "The mathematics behind it may be complicated at times but the\n",
    "actual code is reasonably short and sweet."
   ]
  }
 ],
 "metadata": {
  "kernelspec": {
   "display_name": "Python 3",
   "language": "python",
   "name": "python3"
  },
  "language_info": {
   "codemirror_mode": {
    "name": "ipython",
    "version": 3
   },
   "file_extension": ".py",
   "mimetype": "text/x-python",
   "name": "python",
   "nbconvert_exporter": "python",
   "pygments_lexer": "ipython3",
   "version": "3.7.3"
  }
 },
 "nbformat": 4,
 "nbformat_minor": 2
}
